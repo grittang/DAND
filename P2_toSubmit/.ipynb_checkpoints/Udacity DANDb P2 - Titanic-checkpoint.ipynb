{
 "cells": [
  {
   "cell_type": "markdown",
   "metadata": {},
   "source": [
    "# Data Analysis of Titanic Event\n",
    "by Grit on Oct 13, 2017\n",
    "\n",
    "## [1. Question Posed](#Question)\n",
    "\n",
    "## [2. Handling the missing/NA values](#NA)\n",
    "\n",
    "## [3. Exploring Data and Visualization](#Exploring)\n",
    "\n",
    "[3.1 Age, Sex, Pclass and Survival Rate](#Age, Sex, Pclass)\n",
    "\n",
    "[3.2 Other Factors and Survival Rate](#Others)\n",
    "\n",
    "[3.3 What patterns can be found on the ticket class?](#Pclass)\n",
    "\n",
    "## [4. Drawing Conclusions](#Conclusions)"
   ]
  },
  {
   "cell_type": "markdown",
   "metadata": {},
   "source": [
    "---\n",
    "<a id=\"Question\"></a>\n",
    "## 1. Question Posed\n",
    "\n",
    "As we all konw, Titanic event is one of the most famous disasters throughout the world. More than 1500 people total died, including passengers and crew, and there were an estimated 2224 people aboard the ship.  I'm curious about the survival rate patterns over age, sex and social-economic statu, e.g. \n",
    "- During all the rescues, was the priority given to the children? What about the females?\n",
    "- Were people with low social-economic status treated equally during the rescues?\n",
    "\n",
    "Thus the follwing questions are my concern:\n",
    "\n",
    "- **What variables are related to survival rate?**\n",
    "\n",
    "    - What gender has a better survival rate?\n",
    "    - Among the dead, how old is the oldest person？ And the youngest?\n",
    "    - What are the survival rate patterns over age?\n",
    "    - Are those passengers having higher ticket class likely to survive?\n",
    "    - How does the family relationships (*siblings/spouses* and *parents/children*) affect the survival rate?\n",
    "   \n",
    "   \n",
    "- **What patterns can I find on the ticket class?**\n",
    "\n",
    "    - What's the distribution of ages and genders on each class?\n",
    "    - What port did they embark from?"
   ]
  },
  {
   "cell_type": "markdown",
   "metadata": {},
   "source": [
    "DataSet Source: https://www.kaggle.com/c/titanic/data"
   ]
  },
  {
   "cell_type": "markdown",
   "metadata": {},
   "source": [
    "***\n",
    "<a id='NA'></a>\n",
    "## 2. Handling the missing/NA values\n",
    "Before investigating the data, we need to check the **missing/NA values** and fix them."
   ]
  },
  {
   "cell_type": "code",
   "execution_count": 1,
   "metadata": {
    "scrolled": false
   },
   "outputs": [
    {
     "data": {
      "text/html": [
       "<div>\n",
       "<style>\n",
       "    .dataframe thead tr:only-child th {\n",
       "        text-align: right;\n",
       "    }\n",
       "\n",
       "    .dataframe thead th {\n",
       "        text-align: left;\n",
       "    }\n",
       "\n",
       "    .dataframe tbody tr th {\n",
       "        vertical-align: top;\n",
       "    }\n",
       "</style>\n",
       "<table border=\"1\" class=\"dataframe\">\n",
       "  <thead>\n",
       "    <tr style=\"text-align: right;\">\n",
       "      <th></th>\n",
       "      <th>PassengerId</th>\n",
       "      <th>Survived</th>\n",
       "      <th>Pclass</th>\n",
       "      <th>Name</th>\n",
       "      <th>Sex</th>\n",
       "      <th>Age</th>\n",
       "      <th>SibSp</th>\n",
       "      <th>Parch</th>\n",
       "      <th>Ticket</th>\n",
       "      <th>Fare</th>\n",
       "      <th>Cabin</th>\n",
       "      <th>Embarked</th>\n",
       "    </tr>\n",
       "  </thead>\n",
       "  <tbody>\n",
       "    <tr>\n",
       "      <th>886</th>\n",
       "      <td>887</td>\n",
       "      <td>0</td>\n",
       "      <td>2</td>\n",
       "      <td>Montvila, Rev. Juozas</td>\n",
       "      <td>male</td>\n",
       "      <td>27.0</td>\n",
       "      <td>0</td>\n",
       "      <td>0</td>\n",
       "      <td>211536</td>\n",
       "      <td>13.00</td>\n",
       "      <td>NaN</td>\n",
       "      <td>S</td>\n",
       "    </tr>\n",
       "    <tr>\n",
       "      <th>887</th>\n",
       "      <td>888</td>\n",
       "      <td>1</td>\n",
       "      <td>1</td>\n",
       "      <td>Graham, Miss. Margaret Edith</td>\n",
       "      <td>female</td>\n",
       "      <td>19.0</td>\n",
       "      <td>0</td>\n",
       "      <td>0</td>\n",
       "      <td>112053</td>\n",
       "      <td>30.00</td>\n",
       "      <td>B42</td>\n",
       "      <td>S</td>\n",
       "    </tr>\n",
       "    <tr>\n",
       "      <th>888</th>\n",
       "      <td>889</td>\n",
       "      <td>0</td>\n",
       "      <td>3</td>\n",
       "      <td>Johnston, Miss. Catherine Helen \"Carrie\"</td>\n",
       "      <td>female</td>\n",
       "      <td>NaN</td>\n",
       "      <td>1</td>\n",
       "      <td>2</td>\n",
       "      <td>W./C. 6607</td>\n",
       "      <td>23.45</td>\n",
       "      <td>NaN</td>\n",
       "      <td>S</td>\n",
       "    </tr>\n",
       "    <tr>\n",
       "      <th>889</th>\n",
       "      <td>890</td>\n",
       "      <td>1</td>\n",
       "      <td>1</td>\n",
       "      <td>Behr, Mr. Karl Howell</td>\n",
       "      <td>male</td>\n",
       "      <td>26.0</td>\n",
       "      <td>0</td>\n",
       "      <td>0</td>\n",
       "      <td>111369</td>\n",
       "      <td>30.00</td>\n",
       "      <td>C148</td>\n",
       "      <td>C</td>\n",
       "    </tr>\n",
       "    <tr>\n",
       "      <th>890</th>\n",
       "      <td>891</td>\n",
       "      <td>0</td>\n",
       "      <td>3</td>\n",
       "      <td>Dooley, Mr. Patrick</td>\n",
       "      <td>male</td>\n",
       "      <td>32.0</td>\n",
       "      <td>0</td>\n",
       "      <td>0</td>\n",
       "      <td>370376</td>\n",
       "      <td>7.75</td>\n",
       "      <td>NaN</td>\n",
       "      <td>Q</td>\n",
       "    </tr>\n",
       "  </tbody>\n",
       "</table>\n",
       "</div>"
      ],
      "text/plain": [
       "     PassengerId  Survived  Pclass                                      Name  \\\n",
       "886          887         0       2                     Montvila, Rev. Juozas   \n",
       "887          888         1       1              Graham, Miss. Margaret Edith   \n",
       "888          889         0       3  Johnston, Miss. Catherine Helen \"Carrie\"   \n",
       "889          890         1       1                     Behr, Mr. Karl Howell   \n",
       "890          891         0       3                       Dooley, Mr. Patrick   \n",
       "\n",
       "        Sex   Age  SibSp  Parch      Ticket   Fare Cabin Embarked  \n",
       "886    male  27.0      0      0      211536  13.00   NaN        S  \n",
       "887  female  19.0      0      0      112053  30.00   B42        S  \n",
       "888  female   NaN      1      2  W./C. 6607  23.45   NaN        S  \n",
       "889    male  26.0      0      0      111369  30.00  C148        C  \n",
       "890    male  32.0      0      0      370376   7.75   NaN        Q  "
      ]
     },
     "execution_count": 1,
     "metadata": {},
     "output_type": "execute_result"
    }
   ],
   "source": [
    "# First of all, We need to load datas from the csv file.\n",
    "# Import required modules\n",
    "%matplotlib inline\n",
    "import numpy as np\n",
    "import pandas as pd\n",
    "from pandas import Series, DataFrame\n",
    "import matplotlib.pyplot as plt\n",
    "import seaborn as sns\n",
    "\n",
    "# load the csv file\n",
    "data = pd.read_csv('titanic-data.csv')\n",
    "# Show the last five rows of data\n",
    "data.tail()"
   ]
  },
  {
   "cell_type": "code",
   "execution_count": 2,
   "metadata": {
    "scrolled": false
   },
   "outputs": [
    {
     "data": {
      "text/plain": [
       "PassengerId      0\n",
       "Survived         0\n",
       "Pclass           0\n",
       "Name             0\n",
       "Sex              0\n",
       "Age            177\n",
       "SibSp            0\n",
       "Parch            0\n",
       "Ticket           0\n",
       "Fare             0\n",
       "Cabin          687\n",
       "Embarked         2\n",
       "dtype: int64"
      ]
     },
     "execution_count": 2,
     "metadata": {},
     "output_type": "execute_result"
    }
   ],
   "source": [
    "# Identify the variables containing missing/NA values and the amount of surprising points\n",
    "data.isnull().sum()"
   ]
  },
  {
   "cell_type": "markdown",
   "metadata": {},
   "source": [
    "As described in the table above, a total of three columns contain NA values, which are Age, Cabin and Embarked respectively. \n",
    "- Among them, Age is our focus on the study, which can be handled with the mean age grouped by Pclass and Sex.\n",
    "- Cabin can be ignored, because of little account.\n",
    "- The two rows, where the values of Embarked are missing, will be deleted for the ignored count."
   ]
  },
  {
   "cell_type": "code",
   "execution_count": 3,
   "metadata": {
    "scrolled": true
   },
   "outputs": [
    {
     "data": {
      "text/html": [
       "<div>\n",
       "<style>\n",
       "    .dataframe thead tr:only-child th {\n",
       "        text-align: right;\n",
       "    }\n",
       "\n",
       "    .dataframe thead th {\n",
       "        text-align: left;\n",
       "    }\n",
       "\n",
       "    .dataframe tbody tr th {\n",
       "        vertical-align: top;\n",
       "    }\n",
       "</style>\n",
       "<table border=\"1\" class=\"dataframe\">\n",
       "  <thead>\n",
       "    <tr style=\"text-align: right;\">\n",
       "      <th></th>\n",
       "      <th>PassengerId</th>\n",
       "      <th>Survived</th>\n",
       "      <th>Pclass</th>\n",
       "      <th>Name</th>\n",
       "      <th>Sex</th>\n",
       "      <th>Age</th>\n",
       "      <th>SibSp</th>\n",
       "      <th>Parch</th>\n",
       "      <th>Ticket</th>\n",
       "      <th>Fare</th>\n",
       "      <th>Cabin</th>\n",
       "      <th>Embarked</th>\n",
       "    </tr>\n",
       "  </thead>\n",
       "  <tbody>\n",
       "    <tr>\n",
       "      <th>886</th>\n",
       "      <td>887</td>\n",
       "      <td>0</td>\n",
       "      <td>2</td>\n",
       "      <td>Montvila, Rev. Juozas</td>\n",
       "      <td>male</td>\n",
       "      <td>27.00</td>\n",
       "      <td>0</td>\n",
       "      <td>0</td>\n",
       "      <td>211536</td>\n",
       "      <td>13.00</td>\n",
       "      <td>NaN</td>\n",
       "      <td>S</td>\n",
       "    </tr>\n",
       "    <tr>\n",
       "      <th>887</th>\n",
       "      <td>888</td>\n",
       "      <td>1</td>\n",
       "      <td>1</td>\n",
       "      <td>Graham, Miss. Margaret Edith</td>\n",
       "      <td>female</td>\n",
       "      <td>19.00</td>\n",
       "      <td>0</td>\n",
       "      <td>0</td>\n",
       "      <td>112053</td>\n",
       "      <td>30.00</td>\n",
       "      <td>B42</td>\n",
       "      <td>S</td>\n",
       "    </tr>\n",
       "    <tr>\n",
       "      <th>888</th>\n",
       "      <td>889</td>\n",
       "      <td>0</td>\n",
       "      <td>3</td>\n",
       "      <td>Johnston, Miss. Catherine Helen \"Carrie\"</td>\n",
       "      <td>female</td>\n",
       "      <td>21.75</td>\n",
       "      <td>1</td>\n",
       "      <td>2</td>\n",
       "      <td>W./C. 6607</td>\n",
       "      <td>23.45</td>\n",
       "      <td>NaN</td>\n",
       "      <td>S</td>\n",
       "    </tr>\n",
       "    <tr>\n",
       "      <th>889</th>\n",
       "      <td>890</td>\n",
       "      <td>1</td>\n",
       "      <td>1</td>\n",
       "      <td>Behr, Mr. Karl Howell</td>\n",
       "      <td>male</td>\n",
       "      <td>26.00</td>\n",
       "      <td>0</td>\n",
       "      <td>0</td>\n",
       "      <td>111369</td>\n",
       "      <td>30.00</td>\n",
       "      <td>C148</td>\n",
       "      <td>C</td>\n",
       "    </tr>\n",
       "    <tr>\n",
       "      <th>890</th>\n",
       "      <td>891</td>\n",
       "      <td>0</td>\n",
       "      <td>3</td>\n",
       "      <td>Dooley, Mr. Patrick</td>\n",
       "      <td>male</td>\n",
       "      <td>32.00</td>\n",
       "      <td>0</td>\n",
       "      <td>0</td>\n",
       "      <td>370376</td>\n",
       "      <td>7.75</td>\n",
       "      <td>NaN</td>\n",
       "      <td>Q</td>\n",
       "    </tr>\n",
       "  </tbody>\n",
       "</table>\n",
       "</div>"
      ],
      "text/plain": [
       "     PassengerId  Survived  Pclass                                      Name  \\\n",
       "886          887         0       2                     Montvila, Rev. Juozas   \n",
       "887          888         1       1              Graham, Miss. Margaret Edith   \n",
       "888          889         0       3  Johnston, Miss. Catherine Helen \"Carrie\"   \n",
       "889          890         1       1                     Behr, Mr. Karl Howell   \n",
       "890          891         0       3                       Dooley, Mr. Patrick   \n",
       "\n",
       "        Sex    Age  SibSp  Parch      Ticket   Fare Cabin Embarked  \n",
       "886    male  27.00      0      0      211536  13.00   NaN        S  \n",
       "887  female  19.00      0      0      112053  30.00   B42        S  \n",
       "888  female  21.75      1      2  W./C. 6607  23.45   NaN        S  \n",
       "889    male  26.00      0      0      111369  30.00  C148        C  \n",
       "890    male  32.00      0      0      370376   7.75   NaN        Q  "
      ]
     },
     "execution_count": 3,
     "metadata": {},
     "output_type": "execute_result"
    }
   ],
   "source": [
    "# Fill the NA values of data['Age'] with the mean age grouped by Pclass and Sex\n",
    "data['Age'] = data.groupby(['Pclass', 'Sex'])['Age'].transform(lambda x: x.fillna(x.mean()))\n",
    "\n",
    "# Go over the last five rows of data\n",
    "data.tail()"
   ]
  },
  {
   "cell_type": "markdown",
   "metadata": {},
   "source": [
    "As we can see, the age of the passenger whose id is 889 has been fixed now, which was NA value before."
   ]
  },
  {
   "cell_type": "code",
   "execution_count": 4,
   "metadata": {
    "collapsed": true
   },
   "outputs": [],
   "source": [
    "# Save the rows where data['Embarked'] is not null\n",
    "data = data[data['Embarked'].notnull()]"
   ]
  },
  {
   "cell_type": "markdown",
   "metadata": {},
   "source": [
    "---\n",
    "<a id=\"Exploring\"></a>\n",
    "## 3. Exploring Data and Visualization\n",
    "<a id=\"Age, Sex, Pclass\"></a>\n",
    "#### 3.1 Age, Sex, Pclass and Survival Rate"
   ]
  },
  {
   "cell_type": "code",
   "execution_count": 5,
   "metadata": {},
   "outputs": [
    {
     "data": {
      "text/plain": [
       "array([ 0, 10, 20, 30, 40, 50, 60, 70, 80])"
      ]
     },
     "execution_count": 5,
     "metadata": {},
     "output_type": "execute_result"
    }
   ],
   "source": [
    "# Set the fixed bins\n",
    "bin_values = np.arange(start=0, stop=90, step=10)\n",
    "bin_values"
   ]
  },
  {
   "cell_type": "code",
   "execution_count": 6,
   "metadata": {
    "scrolled": false
   },
   "outputs": [
    {
     "data": {
      "image/png": "[encoded data removed]",
      "text/plain": [
       "<matplotlib.figure.Figure at 0x99b1c50>"
      ]
     },
     "metadata": {},
     "output_type": "display_data"
    }
   ],
   "source": [
    "# Select the data of the dead\n",
    "dead = data[data['Survived']==0]\n",
    "\n",
    "# Plot the distribution of the dead's age by given bins\n",
    "dead['Age'].plot.hist(color='darkgray', bins=bin_values)\n",
    "plt.title('The distribution of the dead\\'s age')\n",
    "plt.xlabel('Age')\n",
    "plt.ylabel('Frequency')\n",
    "plt.xlim(0, 80)\n",
    "plt.ylim(0, 250)\n",
    "plt.grid()\n",
    "plt.show()"
   ]
  },
  {
   "cell_type": "markdown",
   "metadata": {},
   "source": [
    "The dead are mainly young people, especially those aged 20-30. The vast majority of the dead are less than 50 years old."
   ]
  },
  {
   "cell_type": "code",
   "execution_count": 7,
   "metadata": {
    "scrolled": false
   },
   "outputs": [
    {
     "data": {
      "text/plain": [
       "count    549.000000\n",
       "mean      30.025651\n",
       "std       12.769635\n",
       "min        1.000000\n",
       "25%       22.000000\n",
       "50%       26.507589\n",
       "75%       37.000000\n",
       "max       74.000000\n",
       "Name: Age, dtype: float64"
      ]
     },
     "execution_count": 7,
     "metadata": {},
     "output_type": "execute_result"
    }
   ],
   "source": [
    "# Get the descriptive statistics for the age of the dead\n",
    "dead['Age'].describe()"
   ]
  },
  {
   "cell_type": "markdown",
   "metadata": {},
   "source": [
    "The average age of the dead is about 30, and 75% of them aren't more than 37 years old. The oldest deceased is as much as 74 years old, and the youngest is only 1 years old. We may go through their profiles by the follwing way."
   ]
  },
  {
   "cell_type": "code",
   "execution_count": 8,
   "metadata": {
    "scrolled": true
   },
   "outputs": [
    {
     "data": {
      "text/plain": [
       "PassengerId                             165\n",
       "Survived                                  0\n",
       "Pclass                                    3\n",
       "Name           Panula, Master. Eino Viljami\n",
       "Sex                                    male\n",
       "Age                                       1\n",
       "SibSp                                     4\n",
       "Parch                                     1\n",
       "Ticket                              3101295\n",
       "Fare                                39.6875\n",
       "Cabin                                   NaN\n",
       "Embarked                                  S\n",
       "Name: 164, dtype: object"
      ]
     },
     "execution_count": 8,
     "metadata": {},
     "output_type": "execute_result"
    }
   ],
   "source": [
    "# Get the profile of the youngest deceased\n",
    "dead.loc[dead['Age'].argmin()]"
   ]
  },
  {
   "cell_type": "markdown",
   "metadata": {},
   "source": [
    "We can see the youngest deceased is a baby boy with the lowest ticket class."
   ]
  },
  {
   "cell_type": "code",
   "execution_count": 9,
   "metadata": {
    "scrolled": true
   },
   "outputs": [
    {
     "data": {
      "text/plain": [
       "PassengerId                    852\n",
       "Survived                         0\n",
       "Pclass                           3\n",
       "Name           Svensson, Mr. Johan\n",
       "Sex                           male\n",
       "Age                             74\n",
       "SibSp                            0\n",
       "Parch                            0\n",
       "Ticket                      347060\n",
       "Fare                         7.775\n",
       "Cabin                          NaN\n",
       "Embarked                         S\n",
       "Name: 851, dtype: object"
      ]
     },
     "execution_count": 9,
     "metadata": {},
     "output_type": "execute_result"
    }
   ],
   "source": [
    "# Get the profile of the oldest deceased\n",
    "dead.loc[dead['Age'].argmax()]"
   ]
  },
  {
   "cell_type": "markdown",
   "metadata": {},
   "source": [
    "The oldest deceased is a old man and he also has the lowest class of ticket."
   ]
  },
  {
   "cell_type": "code",
   "execution_count": 10,
   "metadata": {},
   "outputs": [
    {
     "data": {
      "text/plain": [
       "0    549\n",
       "1    340\n",
       "Name: Survived, dtype: int64"
      ]
     },
     "execution_count": 10,
     "metadata": {},
     "output_type": "execute_result"
    }
   ],
   "source": [
    "# Calculate the count of the dead and survivors\n",
    "count_survivors = data['Survived'].value_counts()\n",
    "count_survivors"
   ]
  },
  {
   "cell_type": "code",
   "execution_count": 11,
   "metadata": {},
   "outputs": [
    {
     "name": "stdout",
     "output_type": "stream",
     "text": [
      "The overall survival rate of the disaster is 0.382.\n"
     ]
    }
   ],
   "source": [
    "# Get the overall survival rate and round the number\n",
    "overall_survivalRate = count_survivors[1] / count_survivors.sum().astype(float)\n",
    "overall_survivalRate = round(overall_survivalRate, 3)\n",
    "print(\"The overall survival rate of the disaster is %s.\" % overall_survivalRate)"
   ]
  },
  {
   "cell_type": "code",
   "execution_count": 12,
   "metadata": {
    "collapsed": true
   },
   "outputs": [],
   "source": [
    "# Define a function to group the data to see the distribution of survivors\n",
    "# and get the survival rate of each group\n",
    "def group_survivalDistr(dataset, var):\n",
    "    grouped_survived = dataset.groupby([var, 'Survived']).size().unstack()\n",
    "    grouped_survived.fillna(0, inplace=True)\n",
    "    grouped_survived['ratio_survived'] = (grouped_survived[1] / \n",
    "                                             (grouped_survived[0] + \n",
    "                                              grouped_survived[1])).round(3)\n",
    "    return grouped_survived"
   ]
  },
  {
   "cell_type": "code",
   "execution_count": 13,
   "metadata": {},
   "outputs": [
    {
     "data": {
      "text/html": [
       "<div>\n",
       "<style>\n",
       "    .dataframe thead tr:only-child th {\n",
       "        text-align: right;\n",
       "    }\n",
       "\n",
       "    .dataframe thead th {\n",
       "        text-align: left;\n",
       "    }\n",
       "\n",
       "    .dataframe tbody tr th {\n",
       "        vertical-align: top;\n",
       "    }\n",
       "</style>\n",
       "<table border=\"1\" class=\"dataframe\">\n",
       "  <thead>\n",
       "    <tr style=\"text-align: right;\">\n",
       "      <th>Survived</th>\n",
       "      <th>0</th>\n",
       "      <th>1</th>\n",
       "      <th>ratio_survived</th>\n",
       "    </tr>\n",
       "    <tr>\n",
       "      <th>ageBinned</th>\n",
       "      <th></th>\n",
       "      <th></th>\n",
       "      <th></th>\n",
       "    </tr>\n",
       "  </thead>\n",
       "  <tbody>\n",
       "    <tr>\n",
       "      <th>(0, 10]</th>\n",
       "      <td>26</td>\n",
       "      <td>38</td>\n",
       "      <td>0.594</td>\n",
       "    </tr>\n",
       "    <tr>\n",
       "      <th>(10, 20]</th>\n",
       "      <td>71</td>\n",
       "      <td>44</td>\n",
       "      <td>0.383</td>\n",
       "    </tr>\n",
       "    <tr>\n",
       "      <th>(20, 30]</th>\n",
       "      <td>248</td>\n",
       "      <td>120</td>\n",
       "      <td>0.326</td>\n",
       "    </tr>\n",
       "    <tr>\n",
       "      <th>(30, 40]</th>\n",
       "      <td>93</td>\n",
       "      <td>79</td>\n",
       "      <td>0.459</td>\n",
       "    </tr>\n",
       "    <tr>\n",
       "      <th>(40, 50]</th>\n",
       "      <td>69</td>\n",
       "      <td>38</td>\n",
       "      <td>0.355</td>\n",
       "    </tr>\n",
       "    <tr>\n",
       "      <th>(50, 60]</th>\n",
       "      <td>25</td>\n",
       "      <td>17</td>\n",
       "      <td>0.405</td>\n",
       "    </tr>\n",
       "    <tr>\n",
       "      <th>(60, 70]</th>\n",
       "      <td>13</td>\n",
       "      <td>3</td>\n",
       "      <td>0.188</td>\n",
       "    </tr>\n",
       "    <tr>\n",
       "      <th>(70, 80]</th>\n",
       "      <td>4</td>\n",
       "      <td>1</td>\n",
       "      <td>0.200</td>\n",
       "    </tr>\n",
       "  </tbody>\n",
       "</table>\n",
       "</div>"
      ],
      "text/plain": [
       "Survived     0    1  ratio_survived\n",
       "ageBinned                          \n",
       "(0, 10]     26   38           0.594\n",
       "(10, 20]    71   44           0.383\n",
       "(20, 30]   248  120           0.326\n",
       "(30, 40]    93   79           0.459\n",
       "(40, 50]    69   38           0.355\n",
       "(50, 60]    25   17           0.405\n",
       "(60, 70]    13    3           0.188\n",
       "(70, 80]     4    1           0.200"
      ]
     },
     "execution_count": 13,
     "metadata": {},
     "output_type": "execute_result"
    }
   ],
   "source": [
    "# Cut the age by the given bins and add ageBinned column\n",
    "data['ageBinned'] = pd.cut(data['Age'], bins=bin_values)\n",
    "\n",
    "# Apply the survival distribution function for ageBinned\n",
    "survivalRate_by_ageBinned = group_survivalDistr(data, 'ageBinned')\n",
    "survivalRate_by_ageBinned"
   ]
  },
  {
   "cell_type": "code",
   "execution_count": 37,
   "metadata": {
    "scrolled": true
   },
   "outputs": [
    {
     "data": {
      "image/png": "[encoded data removed]",
      "text/plain": [
       "<matplotlib.figure.Figure at 0xb3640f0>"
      ]
     },
     "metadata": {},
     "output_type": "display_data"
    }
   ],
   "source": [
    "# Plot the survival rate of each group\n",
    "survivalRate_by_ageBinned['ratio_survived'].plot.bar(color='#15B374', rot=45, width=0.7)\n",
    "# title of the plot\n",
    "plt.title('The survival rates of different age bracket', fontsize=12)\n",
    "# ylabel of the plot\n",
    "plt.ylabel('Survival Rate')\n",
    "\n",
    "plt.show()"
   ]
  },
  {
   "cell_type": "markdown",
   "metadata": {},
   "source": [
    "The first bar of the two charts above shows the suvival rate of **infant children** is nearly 0.6, higher than other groups and the overall survival rate(0.384), which proves the special care for children in rescues.\n",
    "\n",
    "I also want to konw what **gender** has a better survival rate. Does the conclusion apply equally to the children?"
   ]
  },
  {
   "cell_type": "code",
   "execution_count": 16,
   "metadata": {
    "collapsed": true,
    "scrolled": true
   },
   "outputs": [],
   "source": [
    "# Get the survival distributions of differrent genders and specify the dataset name\n",
    "overall_sex_survivalDistr = group_survivalDistr(data, 'Sex')\n",
    "overall_sex_survivalDistr.name = 'overall_sex_survivalDistr'\n",
    "\n",
    "# Select the sub-dataset of the children with the highest survival rate\n",
    "children = data[data['Age'] <= 10]\n",
    "\n",
    "# Get the survival distributions of boys and girls and specify the dataset name\n",
    "children_sex_survivalDistr = group_survivalDistr(children, 'Sex')\n",
    "children_sex_survivalDistr.name = 'children_sex_survivalDistr'"
   ]
  },
  {
   "cell_type": "code",
   "execution_count": 17,
   "metadata": {
    "collapsed": true
   },
   "outputs": [],
   "source": [
    "# Create a function to compare the survival rates of two datasets \n",
    "# grouped by the same two fileds, such as sex and survival rate\n",
    "# and visualize the result\n",
    "\n",
    "def compare_survivalDistr(dataset1, dataset1_name, dataset2, dataset2_name, title):\n",
    "    \n",
    "    # Set the indent and width for the bars and chart\n",
    "    N = len(dataset1['ratio_survived'])\n",
    "    ind = np.arange(N)\n",
    "    width = 0.25\n",
    "    graph_width = max(ind) * 3 + 3\n",
    "    \n",
    "    # Plotting the bars\n",
    "    fig, ax = plt.subplots(figsize=[graph_width, 6])\n",
    "    \n",
    "    # Create a bar with the dataset\n",
    "    # in indent ind + some width buffer\n",
    "    rects1 = plt.bar(ind, \n",
    "                     dataset1['ratio_survived'], \n",
    "                     width,\n",
    "                     color='#0897DC',\n",
    "                     alpha=0.5, \n",
    "                     label=dataset1.index[0])\n",
    "\n",
    "    rects2 = plt.bar([i + width for i in ind], \n",
    "                     dataset2['ratio_survived'], \n",
    "                     width,\n",
    "                     color='#FFAA00',\n",
    "                     alpha=0.5, \n",
    "                     label=dataset1.index[1])\n",
    "    \n",
    "    ax.set_ylabel('Survival Rate') # set the y-axis label\n",
    "    ax.set_xlabel(dataset1.index.name) # set the x-axis label\n",
    "    ax.set_xticks([i + width / 2 for i in ind]) # set the indent of the x ticks\n",
    "    ax.set_xticklabels(dataset1.index) # set the labels for x ticks\n",
    "    ax.set_axisbelow(True)\n",
    "    \n",
    "    # Create a function to attach a text label above each bar displaying its height\n",
    "    def autolabel(rects):\n",
    "        for rect in rects:\n",
    "            height = rect.get_height()\n",
    "            ax.text(rect.get_x() + rect.get_width()/2., height + 0.01, float(height),\n",
    "                    ha='center', va='bottom')\n",
    "    \n",
    "    # Apply the function above to attch labels\n",
    "    autolabel(rects1)\n",
    "    autolabel(rects2)\n",
    "    \n",
    "    plt.xlim(-width, max(ind) + width * 2) # set the x-axis limit\n",
    "    plt.ylim(0, 1.1) # set the y-axis limit\n",
    "    plt.title(title, fontsize=12) # set the chart's title\n",
    "    plt.legend([dataset1_name, dataset2_name], loc='upper right') # add the legend at the upper right\n",
    "    plt.grid() # show the grid\n",
    "    plt.show()"
   ]
  },
  {
   "cell_type": "code",
   "execution_count": 18,
   "metadata": {
    "scrolled": false
   },
   "outputs": [
    {
     "data": {
      "image/png": "[encoded data removed]",
      "text/plain": [
       "<matplotlib.figure.Figure at 0xb4aa550>"
      ]
     },
     "metadata": {},
     "output_type": "display_data"
    }
   ],
   "source": [
    "title = 'Survival rates of different genders \\n among the overall and children' # title of plot\n",
    "compare_survivalDistr(overall_sex_survivalDistr, overall_sex_survivalDistr.name,\n",
    "                      children_sex_survivalDistr, children_sex_survivalDistr.name,\n",
    "                      title) # compare the survival rates"
   ]
  },
  {
   "cell_type": "markdown",
   "metadata": {
    "collapsed": true
   },
   "source": [
    "- As shown in the blue bar graphs, the overall survival rate of females (0.742) is more than 4 times that of males(0.189). It seems that **women** have acquired enough care in rescues.\n",
    "\n",
    "- However, the preferential treatment for females doesn't apply to children, whose data is displayed in yellow. Among the children, the survival rates of boys(0.576) and girls(0.613) are **almost the same**. Interestingly, the girls' survival rate(0.613) is lower than the overall survival rate of females(0.742).\n",
    "\n",
    "Still a small number of women are excluded from the list of survivors. So what is the common characteristic of those **servived women**? Does the characteristic include the **ticket class**, which represents the social-economic status?"
   ]
  },
  {
   "cell_type": "code",
   "execution_count": 19,
   "metadata": {
    "scrolled": false
   },
   "outputs": [
    {
     "data": {
      "image/png": "[encoded data removed]",
      "text/plain": [
       "<matplotlib.figure.Figure at 0xb37e0b8>"
      ]
     },
     "metadata": {},
     "output_type": "display_data"
    }
   ],
   "source": [
    "# Get the survival distributions of differrent social-economic status and specify the dataset name\n",
    "overall_pclass_survivalDistr = group_survivalDistr(data, 'Pclass')\n",
    "overall_pclass_survivalDistr.name = 'overall_pclass_survivalDistr'\n",
    "\n",
    "# Select the sub-dataset of females\n",
    "females = data[data['Sex']=='female']\n",
    "\n",
    "# Get the survival distributions of boys and girls and specify the dataset name\n",
    "female_pclass_survivalDistr = group_survivalDistr(females, 'Pclass')\n",
    "female_pclass_survivalDistr.name = 'female_pclass_survivalDistr'\n",
    "\n",
    "# Set the title of the plot\n",
    "title = 'Survival rates of different social classes \\n among the overall and females'\n",
    "\n",
    "# Compare the survival rates of all passengers and females in each social class\n",
    "compare_survivalDistr(overall_pclass_survivalDistr, overall_pclass_survivalDistr.name,\n",
    "                      female_pclass_survivalDistr, female_pclass_survivalDistr.name,\n",
    "                      title)"
   ]
  },
  {
   "cell_type": "markdown",
   "metadata": {
    "collapsed": true
   },
   "source": [
    "- As shown the blue bar graphs, the survival rate of the passengers with ticket class 2 (0.473) is almost twice that of those people with ticket class 3 (0.242). The rate derived from ticket class 1 (0.630) is even higher. That means **the higher social-economic class a passenger belongs, the more likely it is for him/her to be saved from the disaster**, which we call it **_law of social-economic class and survival rate_** for the time being. Next, we'll realize the **universality** of the law. \n",
    "\n",
    "- The orange bar graphs reveal that the survival rate of females is always higher than the overall rate on each social class, which illustrates a situation that **females have received priority** in rescues.\n",
    "\n",
    "- Although females have got prior care in rescues, the degrees of care for **females of different social classes** are not the same. The survival rate of females with first two ticket classes are more than 0.9, while **only half** of females with the lowest ticket class can be rescued, which just coincides with the law above.\n",
    "\n",
    "What about the care for **children with different ticket classes**?"
   ]
  },
  {
   "cell_type": "code",
   "execution_count": 20,
   "metadata": {
    "scrolled": true
   },
   "outputs": [
    {
     "data": {
      "text/html": [
       "<div>\n",
       "<style>\n",
       "    .dataframe thead tr:only-child th {\n",
       "        text-align: right;\n",
       "    }\n",
       "\n",
       "    .dataframe thead th {\n",
       "        text-align: left;\n",
       "    }\n",
       "\n",
       "    .dataframe tbody tr th {\n",
       "        vertical-align: top;\n",
       "    }\n",
       "</style>\n",
       "<table border=\"1\" class=\"dataframe\">\n",
       "  <thead>\n",
       "    <tr style=\"text-align: right;\">\n",
       "      <th>Survived</th>\n",
       "      <th>0</th>\n",
       "      <th>1</th>\n",
       "      <th>ratio_survived</th>\n",
       "    </tr>\n",
       "    <tr>\n",
       "      <th>Pclass</th>\n",
       "      <th></th>\n",
       "      <th></th>\n",
       "      <th></th>\n",
       "    </tr>\n",
       "  </thead>\n",
       "  <tbody>\n",
       "    <tr>\n",
       "      <th>1</th>\n",
       "      <td>1.0</td>\n",
       "      <td>2.0</td>\n",
       "      <td>0.667</td>\n",
       "    </tr>\n",
       "    <tr>\n",
       "      <th>2</th>\n",
       "      <td>0.0</td>\n",
       "      <td>17.0</td>\n",
       "      <td>1.000</td>\n",
       "    </tr>\n",
       "    <tr>\n",
       "      <th>3</th>\n",
       "      <td>25.0</td>\n",
       "      <td>19.0</td>\n",
       "      <td>0.432</td>\n",
       "    </tr>\n",
       "  </tbody>\n",
       "</table>\n",
       "</div>"
      ],
      "text/plain": [
       "Survived     0     1  ratio_survived\n",
       "Pclass                              \n",
       "1          1.0   2.0           0.667\n",
       "2          0.0  17.0           1.000\n",
       "3         25.0  19.0           0.432"
      ]
     },
     "execution_count": 20,
     "metadata": {},
     "output_type": "execute_result"
    }
   ],
   "source": [
    "# Get the survival distributions of children of differrent social classes\n",
    "group_survivalDistr(children, 'Pclass')"
   ]
  },
  {
   "cell_type": "markdown",
   "metadata": {
    "collapsed": true
   },
   "source": [
    "The number of childrewn with ticket class 1 is too small to be considered. All of the children with ticket class 2 are saved, while the survival rate of children with ticket class 3 is only less than half. That is to say, the **_law of social-economic class and survival rate_** can apply to women and children."
   ]
  },
  {
   "cell_type": "markdown",
   "metadata": {},
   "source": [
    "<a id=\"Others\"></a>\n",
    "#### 3.2 Other Factors and Survival Rate"
   ]
  },
  {
   "cell_type": "code",
   "execution_count": 21,
   "metadata": {
    "collapsed": true,
    "scrolled": true
   },
   "outputs": [],
   "source": [
    "# Get the survival distributions of differrent # of siblings / spouses\n",
    "SibSp_survivalDistr = group_survivalDistr(data, 'SibSp')\n",
    "SibSp_survivalDistr.name = 'SibSp_survivalDistr'\n",
    "\n",
    "# Get the survival distributions of differrent # of parents / children\n",
    "Parch_survivalDistr = group_survivalDistr(data, 'Parch')\n",
    "Parch_survivalDistr.name = 'Parch_survivalDistr'\n",
    "\n",
    "title = 'Survival rates of passengers with different number \\n of siblings / spouses and parents / children'"
   ]
  },
  {
   "cell_type": "code",
   "execution_count": 22,
   "metadata": {
    "scrolled": true
   },
   "outputs": [
    {
     "data": {
      "image/png": "[encoded data removed]",
      "text/plain": [
       "<matplotlib.figure.Figure at 0xb7e7278>"
      ]
     },
     "metadata": {},
     "output_type": "display_data"
    }
   ],
   "source": [
    "# Compare the survival rates of siblings / spouses and parents / children\n",
    "compare_survivalDistr(SibSp_survivalDistr, SibSp_survivalDistr.name, \n",
    "                      Parch_survivalDistr, Parch_survivalDistr.name,\n",
    "                      title)"
   ]
  },
  {
   "cell_type": "markdown",
   "metadata": {},
   "source": [
    "As shown in the figure, those passengers with **more than 3 family members** have a lower chance of survival, less than the overall survival rate(0.384). I thought people in a big family may support each other better, so what's the reason for the lower survival chance. Is this related to their social classes or genders?"
   ]
  },
  {
   "cell_type": "code",
   "execution_count": 23,
   "metadata": {
    "scrolled": true
   },
   "outputs": [
    {
     "data": {
      "text/html": [
       "<div>\n",
       "<style>\n",
       "    .dataframe thead tr:only-child th {\n",
       "        text-align: right;\n",
       "    }\n",
       "\n",
       "    .dataframe thead th {\n",
       "        text-align: left;\n",
       "    }\n",
       "\n",
       "    .dataframe tbody tr th {\n",
       "        vertical-align: top;\n",
       "    }\n",
       "</style>\n",
       "<table border=\"1\" class=\"dataframe\">\n",
       "  <thead>\n",
       "    <tr style=\"text-align: right;\">\n",
       "      <th>Pclass</th>\n",
       "      <th>1</th>\n",
       "      <th>3</th>\n",
       "    </tr>\n",
       "    <tr>\n",
       "      <th>Sex</th>\n",
       "      <th></th>\n",
       "      <th></th>\n",
       "    </tr>\n",
       "  </thead>\n",
       "  <tbody>\n",
       "    <tr>\n",
       "      <th>female</th>\n",
       "      <td>NaN</td>\n",
       "      <td>17.0</td>\n",
       "    </tr>\n",
       "    <tr>\n",
       "      <th>male</th>\n",
       "      <td>1.0</td>\n",
       "      <td>22.0</td>\n",
       "    </tr>\n",
       "  </tbody>\n",
       "</table>\n",
       "</div>"
      ],
      "text/plain": [
       "Pclass    1     3\n",
       "Sex              \n",
       "female  NaN  17.0\n",
       "male    1.0  22.0"
      ]
     },
     "execution_count": 23,
     "metadata": {},
     "output_type": "execute_result"
    }
   ],
   "source": [
    "# Select the sub-dataset of passengers with more than 3 family members\n",
    "familyRelat = data[(data['SibSp']>3) | (data['Parch']>3)]\n",
    "\n",
    "# Group them by sex and pclass and get the count\n",
    "grouped_familyRelat = familyRelat.groupby(['Sex', 'Pclass']).size().unstack()\n",
    "grouped_familyRelat"
   ]
  },
  {
   "cell_type": "markdown",
   "metadata": {},
   "source": [
    "We can see almost all the passengers with more than 3 family members are **at the bottom of the socity**. That may be the reason for low survival chance."
   ]
  },
  {
   "cell_type": "code",
   "execution_count": 24,
   "metadata": {
    "scrolled": true
   },
   "outputs": [
    {
     "data": {
      "text/html": [
       "<div>\n",
       "<style>\n",
       "    .dataframe thead tr:only-child th {\n",
       "        text-align: right;\n",
       "    }\n",
       "\n",
       "    .dataframe thead th {\n",
       "        text-align: left;\n",
       "    }\n",
       "\n",
       "    .dataframe tbody tr th {\n",
       "        vertical-align: top;\n",
       "    }\n",
       "</style>\n",
       "<table border=\"1\" class=\"dataframe\">\n",
       "  <thead>\n",
       "    <tr style=\"text-align: right;\">\n",
       "      <th>Survived</th>\n",
       "      <th>0</th>\n",
       "      <th>1</th>\n",
       "      <th>ratio_survived</th>\n",
       "    </tr>\n",
       "    <tr>\n",
       "      <th>Pclass</th>\n",
       "      <th></th>\n",
       "      <th></th>\n",
       "      <th></th>\n",
       "    </tr>\n",
       "  </thead>\n",
       "  <tbody>\n",
       "    <tr>\n",
       "      <th>1</th>\n",
       "      <td>1.0</td>\n",
       "      <td>0.0</td>\n",
       "      <td>0.000</td>\n",
       "    </tr>\n",
       "    <tr>\n",
       "      <th>3</th>\n",
       "      <td>35.0</td>\n",
       "      <td>4.0</td>\n",
       "      <td>0.103</td>\n",
       "    </tr>\n",
       "  </tbody>\n",
       "</table>\n",
       "</div>"
      ],
      "text/plain": [
       "Survived     0    1  ratio_survived\n",
       "Pclass                             \n",
       "1          1.0  0.0           0.000\n",
       "3         35.0  4.0           0.103"
      ]
     },
     "execution_count": 24,
     "metadata": {},
     "output_type": "execute_result"
    }
   ],
   "source": [
    "# Get the survival distributions of differrent social classes of them\n",
    "group_survivalDistr(familyRelat, 'Pclass')"
   ]
  },
  {
   "cell_type": "markdown",
   "metadata": {},
   "source": [
    "These people with ticket class 3 have a proporlity of 0.103 to survive, obviously less than the overall 0.384."
   ]
  },
  {
   "cell_type": "markdown",
   "metadata": {},
   "source": [
    "<a id=\"Pclass\"></a>\n",
    "#### 3.3 What patterns can I find on the ticket class? "
   ]
  },
  {
   "cell_type": "code",
   "execution_count": 25,
   "metadata": {
    "collapsed": true
   },
   "outputs": [],
   "source": [
    "# set the theme of boxplots\n",
    "sns.set(style=\"whitegrid\", color_codes=True) "
   ]
  },
  {
   "cell_type": "code",
   "execution_count": 26,
   "metadata": {
    "scrolled": false
   },
   "outputs": [
    {
     "data": {
      "image/png": "[encoded data removed]",
      "text/plain": [
       "<matplotlib.figure.Figure at 0xbfb7550>"
      ]
     },
     "metadata": {},
     "output_type": "display_data"
    }
   ],
   "source": [
    "# Create boxplots\n",
    "sns.factorplot(x='Pclass', \n",
    "               y='Age', \n",
    "               hue='Sex', \n",
    "               kind='box', \n",
    "               data=data,\n",
    "               showmeans=True, # show the mean ages\n",
    "               palette='Set3',\n",
    "               size=6, \n",
    "               aspect=1.5)\n",
    "\n",
    "# Set title with matplotlib\n",
    "plt.title('The descriptive statistics of Age grouped by Pclass and Sex')\n",
    "plt.show()"
   ]
  },
  {
   "cell_type": "markdown",
   "metadata": {},
   "source": [
    "- **The higher the social class, the greater the average age**. For males, he averege age of the lowest social class is about 27 years old, wihle that of the highest social class is about 42. It's well understood that people around the age of 40 are more likely to gain success in their careers after years of occupation and wealth accumulation.\n",
    "\n",
    "- **The higher the social class, the larger dispersion of age the class has**. It's derived from the maximum standard deviation of the highest class. \n",
    "\n",
    "- The mean age of females is greater than that of males on each social class. It's normal that a husband is a bit older than his wife."
   ]
  },
  {
   "cell_type": "code",
   "execution_count": 27,
   "metadata": {
    "scrolled": false
   },
   "outputs": [
    {
     "data": {
      "image/png": "[encoded data removed]",
      "text/plain": [
       "<matplotlib.figure.Figure at 0xb7e7128>"
      ]
     },
     "metadata": {},
     "output_type": "display_data"
    }
   ],
   "source": [
    "# Create boxplots\n",
    "sns.factorplot(x='Pclass', \n",
    "               y='Fare', \n",
    "               hue='Sex', \n",
    "               kind='box', \n",
    "               data=data,\n",
    "               showmeans=True, # show the mean fares\n",
    "               palette='Set3',\n",
    "               size=6, \n",
    "               aspect=1.5)\n",
    "\n",
    "# Set title with matplotlib\n",
    "plt.title('The descriptive statistics of Fare grouped by Pclass and Sex')\n",
    "plt.show()"
   ]
  },
  {
   "cell_type": "markdown",
   "metadata": {},
   "source": [
    "- On average, females spend more than males, which applys to each social class. Nevertheless, it is **only in the highest class** that the average fare of females is significantly higher than males! This is consistent with our consensus that women love consumption than men, enlarged in the rich.\n",
    "\n",
    "- Also, it is **only in the highest class** that the fare has a obviously wide dispersion. Several fares are even more than $500, which is about 5 times the average fare of this group."
   ]
  },
  {
   "cell_type": "code",
   "execution_count": 28,
   "metadata": {
    "scrolled": false
   },
   "outputs": [
    {
     "data": {
      "text/html": [
       "<div>\n",
       "<style>\n",
       "    .dataframe thead tr:only-child th {\n",
       "        text-align: right;\n",
       "    }\n",
       "\n",
       "    .dataframe thead th {\n",
       "        text-align: left;\n",
       "    }\n",
       "\n",
       "    .dataframe tbody tr th {\n",
       "        vertical-align: top;\n",
       "    }\n",
       "</style>\n",
       "<table border=\"1\" class=\"dataframe\">\n",
       "  <thead>\n",
       "    <tr style=\"text-align: right;\">\n",
       "      <th></th>\n",
       "      <th>PassengerId</th>\n",
       "      <th>Survived</th>\n",
       "      <th>Pclass</th>\n",
       "      <th>Name</th>\n",
       "      <th>Sex</th>\n",
       "      <th>Age</th>\n",
       "      <th>SibSp</th>\n",
       "      <th>Parch</th>\n",
       "      <th>Ticket</th>\n",
       "      <th>Fare</th>\n",
       "      <th>Cabin</th>\n",
       "      <th>Embarked</th>\n",
       "      <th>ageBinned</th>\n",
       "    </tr>\n",
       "  </thead>\n",
       "  <tbody>\n",
       "    <tr>\n",
       "      <th>258</th>\n",
       "      <td>259</td>\n",
       "      <td>1</td>\n",
       "      <td>1</td>\n",
       "      <td>Ward, Miss. Anna</td>\n",
       "      <td>female</td>\n",
       "      <td>35.0</td>\n",
       "      <td>0</td>\n",
       "      <td>0</td>\n",
       "      <td>PC 17755</td>\n",
       "      <td>512.3292</td>\n",
       "      <td>NaN</td>\n",
       "      <td>C</td>\n",
       "      <td>(30, 40]</td>\n",
       "    </tr>\n",
       "    <tr>\n",
       "      <th>679</th>\n",
       "      <td>680</td>\n",
       "      <td>1</td>\n",
       "      <td>1</td>\n",
       "      <td>Cardeza, Mr. Thomas Drake Martinez</td>\n",
       "      <td>male</td>\n",
       "      <td>36.0</td>\n",
       "      <td>0</td>\n",
       "      <td>1</td>\n",
       "      <td>PC 17755</td>\n",
       "      <td>512.3292</td>\n",
       "      <td>B51 B53 B55</td>\n",
       "      <td>C</td>\n",
       "      <td>(30, 40]</td>\n",
       "    </tr>\n",
       "    <tr>\n",
       "      <th>737</th>\n",
       "      <td>738</td>\n",
       "      <td>1</td>\n",
       "      <td>1</td>\n",
       "      <td>Lesurer, Mr. Gustave J</td>\n",
       "      <td>male</td>\n",
       "      <td>35.0</td>\n",
       "      <td>0</td>\n",
       "      <td>0</td>\n",
       "      <td>PC 17755</td>\n",
       "      <td>512.3292</td>\n",
       "      <td>B101</td>\n",
       "      <td>C</td>\n",
       "      <td>(30, 40]</td>\n",
       "    </tr>\n",
       "  </tbody>\n",
       "</table>\n",
       "</div>"
      ],
      "text/plain": [
       "     PassengerId  Survived  Pclass                                Name  \\\n",
       "258          259         1       1                    Ward, Miss. Anna   \n",
       "679          680         1       1  Cardeza, Mr. Thomas Drake Martinez   \n",
       "737          738         1       1              Lesurer, Mr. Gustave J   \n",
       "\n",
       "        Sex   Age  SibSp  Parch    Ticket      Fare        Cabin Embarked  \\\n",
       "258  female  35.0      0      0  PC 17755  512.3292          NaN        C   \n",
       "679    male  36.0      0      1  PC 17755  512.3292  B51 B53 B55        C   \n",
       "737    male  35.0      0      0  PC 17755  512.3292         B101        C   \n",
       "\n",
       "    ageBinned  \n",
       "258  (30, 40]  \n",
       "679  (30, 40]  \n",
       "737  (30, 40]  "
      ]
     },
     "execution_count": 28,
     "metadata": {},
     "output_type": "execute_result"
    }
   ],
   "source": [
    "# the profiles of those who spend most\n",
    "data[data['Fare']>500]"
   ]
  },
  {
   "cell_type": "markdown",
   "metadata": {},
   "source": [
    "All those who spend most have been survived from the disaster."
   ]
  },
  {
   "cell_type": "code",
   "execution_count": 38,
   "metadata": {
    "collapsed": true
   },
   "outputs": [],
   "source": [
    "# Create a function to plot the stacked percentage bars grouped by Pclass\n",
    "def get_composed_percentage(var, figTitle):\n",
    "\n",
    "    # Group the data by pclass and var and get the count\n",
    "    count_grouped = data.groupby(['Pclass', var]).size().unstack()\n",
    "    \n",
    "    # Transform the frequency to the percentage along the columns\n",
    "    count_grouped = count_grouped.apply(lambda x: x / x.sum() * 100, axis=1)\n",
    "    \n",
    "    # Prefix the keys\n",
    "    count_grouped = count_grouped.add_prefix('ratio_')\n",
    "\n",
    "    f, ax = plt.subplots(1)\n",
    "    \n",
    "    ind = np.arange(3)\n",
    "    bar_width = 0.5\n",
    "    tick_ind = [i for i in ind]\n",
    "\n",
    "    ratio1 = count_grouped.iloc[:, 0]  \n",
    "    ax.bar(tick_ind, ratio1, bar_width,\n",
    "           color='#0897DC',\n",
    "           alpha=0.5,\n",
    "           label=count_grouped.keys()[0])\n",
    "\n",
    "    ratio2 = count_grouped.iloc[:, 1]\n",
    "    ax.bar(tick_ind, ratio2, bar_width, bottom=ratio1,\n",
    "           color='#FFAA00',\n",
    "           alpha=0.5,\n",
    "           label=count_grouped.keys()[1])\n",
    "    \n",
    "    # Check if the grouped DataFrame has 3 columns,\n",
    "    # if so, add the 3rd stacked bars\n",
    "    if len(count_grouped.columns) == 3:\n",
    "        ratio3 = count_grouped.iloc[:, 2] \n",
    "        ax.bar(tick_ind,\n",
    "               ratio3,\n",
    "               bottom=ratio1+ratio2,\n",
    "               width=bar_width,\n",
    "               color='r',\n",
    "               alpha=0.5,\n",
    "               label=count_grouped.columns[2])\n",
    "        \n",
    "    # Put a legend to the right of the current axis\n",
    "    ax.legend(loc='center left', bbox_to_anchor=(1, 0.5))\n",
    "    ax.set_xlabel('Pclass')\n",
    "    ax.set_ylabel('Percentage')\n",
    "    ax.set_title(figTitle)\n",
    "    ax.set_axisbelow(True)\n",
    "\n",
    "    plt.xticks(tick_ind, count_grouped.index)\n",
    "    plt.xlim([min(tick_ind)-bar_width, max(tick_ind)+bar_width])\n",
    "    plt.ylim(0, 100)\n",
    "\n",
    "    plt.show()"
   ]
  },
  {
   "cell_type": "code",
   "execution_count": 39,
   "metadata": {
    "scrolled": true
   },
   "outputs": [
    {
     "data": {
      "image/png": "[encoded data removed]",
      "text/plain": [
       "<matplotlib.figure.Figure at 0xbaa7a90>"
      ]
     },
     "metadata": {},
     "output_type": "display_data"
    }
   ],
   "source": [
    "figTitle1 = 'The percentage of different genders \\n on each social class'\n",
    "get_composed_percentage('Sex', figTitle1)"
   ]
  },
  {
   "cell_type": "markdown",
   "metadata": {},
   "source": [
    "Although the three groups of passengers are mainly male, the third class account for the highest proportion of male."
   ]
  },
  {
   "cell_type": "code",
   "execution_count": 40,
   "metadata": {
    "scrolled": true
   },
   "outputs": [
    {
     "data": {
      "image/png": "[encoded data removed]",
      "text/plain": [
       "<matplotlib.figure.Figure at 0xd6bb438>"
      ]
     },
     "metadata": {},
     "output_type": "display_data"
    }
   ],
   "source": [
    "figTitle2 = 'The percentage of different embarked ports \\n on each social class'\n",
    "get_composed_percentage('Embarked', figTitle2)"
   ]
  },
  {
   "cell_type": "markdown",
   "metadata": {},
   "source": [
    "Despite of the majority of passengers on each class embarking from Southampton(S) port, most people with ticket class 1 come from Cherbourg(C), and people with ticket class 3 are mainly from Queenstown(S) port. That reprents there are more rich in Cherbourg than in Queenstown."
   ]
  },
  {
   "cell_type": "markdown",
   "metadata": {},
   "source": [
    "<a id=\"Conclusions\"></a>\n",
    "## 4. Drawing Conclusions"
   ]
  },
  {
   "cell_type": "markdown",
   "metadata": {
    "collapsed": true
   },
   "source": [
    "#### 4.1 Social-economic class and survival rate\n",
    "\n",
    "* The **overall survival rate** of the disaster is 0.384.\n",
    "\n",
    "* The survival rate of the passengers with ticket class 2 (0.473) is almost twice that of those people with ticket class 3 (0.242). The rate derived from ticket class 1 (0.630) is even higher. That means the higher social-economic class a passenger belongs, the more likely it is for him/her to be saved from the disaster, which we call it law of social-economic class and survival rate\n",
    "\n",
    "* The law of social-economic class and survival rate can apply to women and children, which proves a relatively wide applicability of the law.\n",
    "\n",
    "#### 4.2 Social-economic class and age\n",
    "\n",
    "* The higher the social class, the greater the average age and the larger dispersion of age the class has.\n",
    "\n",
    "#### 4.3 Gender and survival rate\n",
    "\n",
    "* The overall survival rate of females (0.742) is more than 4 times that of males(0.189). It seems that women have acquired enough care in rescues.\n",
    "\n",
    "* Actually, the priority for females can be found on each social class, except among the children, cause  the survival rates of boys(0.576) and girls(0.613) are almost the same.\n",
    "\n",
    "#### 4.4 Descriptive statistics of age and survival rate\n",
    "\n",
    "* The suvival rate of infant children is nearly 0.6, higher than other groups, which proves the special care for children in rescues.\n",
    "\n",
    "* The average age of the dead is about 30, and 75% of them aren't more than 37 years old. The oldest deceased is as much as 74 years old, and the youngest is only 1 years old.\n",
    "\n",
    "#### 4.5 Family relationships and survival rate\n",
    "\n",
    "* Those passengers with more than 3 family members have a lower chance of survival (about 0.1), far less than the overall survival rate(0.384), for the possible reason that almost all of them come from the lower social-economic class."
   ]
  },
  {
   "cell_type": "code",
   "execution_count": null,
   "metadata": {
    "collapsed": true
   },
   "outputs": [],
   "source": []
  }
 ],
 "metadata": {
  "kernelspec": {
   "display_name": "Python [conda env:DAND]",
   "language": "python",
   "name": "conda-env-DAND-py"
  },
  "language_info": {
   "codemirror_mode": {
    "name": "ipython",
    "version": 2
   },
   "file_extension": ".py",
   "mimetype": "text/x-python",
   "name": "python",
   "nbconvert_exporter": "python",
   "pygments_lexer": "ipython2",
   "version": "2.7.13"
  }
 },
 "nbformat": 4,
 "nbformat_minor": 2
}
