{
 "cells": [
  {
   "cell_type": "markdown",
   "metadata": {},
   "source": [
    "## 1. Question Posed\n",
    "\n",
    "As we all konw, Titanic event is one of the most famous disasters throughout the world. More than 1500 people total died, including passengers and crew, and there were an estimated 2224 people aboard the ship.  What I am concerned about is:\n",
    "- **What factors make people more likely to survive?**\n",
    "-  "
   ]
  },
  {
   "cell_type": "markdown",
   "metadata": {},
   "source": [
    "## 2. Cleaning & Exploring Data\n",
    "First of all, I need to load the csv file."
   ]
  },
  {
   "cell_type": "code",
   "execution_count": 250,
   "metadata": {
    "scrolled": true
   },
   "outputs": [
    {
     "data": {
      "text/html": [
       "<div>\n",
       "<style>\n",
       "    .dataframe thead tr:only-child th {\n",
       "        text-align: right;\n",
       "    }\n",
       "\n",
       "    .dataframe thead th {\n",
       "        text-align: left;\n",
       "    }\n",
       "\n",
       "    .dataframe tbody tr th {\n",
       "        vertical-align: top;\n",
       "    }\n",
       "</style>\n",
       "<table border=\"1\" class=\"dataframe\">\n",
       "  <thead>\n",
       "    <tr style=\"text-align: right;\">\n",
       "      <th></th>\n",
       "      <th>PassengerId</th>\n",
       "      <th>Survived</th>\n",
       "      <th>Pclass</th>\n",
       "      <th>Name</th>\n",
       "      <th>Sex</th>\n",
       "      <th>Age</th>\n",
       "      <th>SibSp</th>\n",
       "      <th>Parch</th>\n",
       "      <th>Ticket</th>\n",
       "      <th>Fare</th>\n",
       "      <th>Cabin</th>\n",
       "      <th>Embarked</th>\n",
       "    </tr>\n",
       "  </thead>\n",
       "  <tbody>\n",
       "    <tr>\n",
       "      <th>0</th>\n",
       "      <td>1</td>\n",
       "      <td>0</td>\n",
       "      <td>3</td>\n",
       "      <td>Braund, Mr. Owen Harris</td>\n",
       "      <td>male</td>\n",
       "      <td>22.0</td>\n",
       "      <td>1</td>\n",
       "      <td>0</td>\n",
       "      <td>A/5 21171</td>\n",
       "      <td>7.2500</td>\n",
       "      <td>NaN</td>\n",
       "      <td>S</td>\n",
       "    </tr>\n",
       "    <tr>\n",
       "      <th>1</th>\n",
       "      <td>2</td>\n",
       "      <td>1</td>\n",
       "      <td>1</td>\n",
       "      <td>Cumings, Mrs. John Bradley (Florence Briggs Th...</td>\n",
       "      <td>female</td>\n",
       "      <td>38.0</td>\n",
       "      <td>1</td>\n",
       "      <td>0</td>\n",
       "      <td>PC 17599</td>\n",
       "      <td>71.2833</td>\n",
       "      <td>C85</td>\n",
       "      <td>C</td>\n",
       "    </tr>\n",
       "    <tr>\n",
       "      <th>2</th>\n",
       "      <td>3</td>\n",
       "      <td>1</td>\n",
       "      <td>3</td>\n",
       "      <td>Heikkinen, Miss. Laina</td>\n",
       "      <td>female</td>\n",
       "      <td>26.0</td>\n",
       "      <td>0</td>\n",
       "      <td>0</td>\n",
       "      <td>STON/O2. 3101282</td>\n",
       "      <td>7.9250</td>\n",
       "      <td>NaN</td>\n",
       "      <td>S</td>\n",
       "    </tr>\n",
       "    <tr>\n",
       "      <th>3</th>\n",
       "      <td>4</td>\n",
       "      <td>1</td>\n",
       "      <td>1</td>\n",
       "      <td>Futrelle, Mrs. Jacques Heath (Lily May Peel)</td>\n",
       "      <td>female</td>\n",
       "      <td>35.0</td>\n",
       "      <td>1</td>\n",
       "      <td>0</td>\n",
       "      <td>113803</td>\n",
       "      <td>53.1000</td>\n",
       "      <td>C123</td>\n",
       "      <td>S</td>\n",
       "    </tr>\n",
       "    <tr>\n",
       "      <th>4</th>\n",
       "      <td>5</td>\n",
       "      <td>0</td>\n",
       "      <td>3</td>\n",
       "      <td>Allen, Mr. William Henry</td>\n",
       "      <td>male</td>\n",
       "      <td>35.0</td>\n",
       "      <td>0</td>\n",
       "      <td>0</td>\n",
       "      <td>373450</td>\n",
       "      <td>8.0500</td>\n",
       "      <td>NaN</td>\n",
       "      <td>S</td>\n",
       "    </tr>\n",
       "  </tbody>\n",
       "</table>\n",
       "</div>"
      ],
      "text/plain": [
       "   PassengerId  Survived  Pclass  \\\n",
       "0            1         0       3   \n",
       "1            2         1       1   \n",
       "2            3         1       3   \n",
       "3            4         1       1   \n",
       "4            5         0       3   \n",
       "\n",
       "                                                Name     Sex   Age  SibSp  \\\n",
       "0                            Braund, Mr. Owen Harris    male  22.0      1   \n",
       "1  Cumings, Mrs. John Bradley (Florence Briggs Th...  female  38.0      1   \n",
       "2                             Heikkinen, Miss. Laina  female  26.0      0   \n",
       "3       Futrelle, Mrs. Jacques Heath (Lily May Peel)  female  35.0      1   \n",
       "4                           Allen, Mr. William Henry    male  35.0      0   \n",
       "\n",
       "   Parch            Ticket     Fare Cabin Embarked  \n",
       "0      0         A/5 21171   7.2500   NaN        S  \n",
       "1      0          PC 17599  71.2833   C85        C  \n",
       "2      0  STON/O2. 3101282   7.9250   NaN        S  \n",
       "3      0            113803  53.1000  C123        S  \n",
       "4      0            373450   8.0500   NaN        S  "
      ]
     },
     "execution_count": 250,
     "metadata": {},
     "output_type": "execute_result"
    }
   ],
   "source": [
    "import numpy as np\n",
    "import pandas as pd\n",
    "import matplotlib.pyplot as plt\n",
    "import seaborn as sns\n",
    "\n",
    "# load the csv file\n",
    "titanic_data = pd.read_csv('titanic-data.csv')\n",
    "titanic_data.head()"
   ]
  },
  {
   "cell_type": "code",
   "execution_count": 251,
   "metadata": {
    "scrolled": true
   },
   "outputs": [
    {
     "name": "stdout",
     "output_type": "stream",
     "text": [
      "True\n"
     ]
    }
   ],
   "source": [
    "# Make sure each PassengerId is unique\n",
    "unique_id = titanic_data['PassengerId'].unique()\n",
    "print len(unique_id) == len(titanic_data)"
   ]
  },
  {
   "cell_type": "code",
   "execution_count": 252,
   "metadata": {},
   "outputs": [
    {
     "data": {
      "text/plain": [
       "PassengerId      0\n",
       "Survived         0\n",
       "Pclass           0\n",
       "Name             0\n",
       "Sex              0\n",
       "Age            177\n",
       "SibSp            0\n",
       "Parch            0\n",
       "Ticket           0\n",
       "Fare             0\n",
       "Cabin          687\n",
       "Embarked         2\n",
       "dtype: int64"
      ]
     },
     "execution_count": 252,
     "metadata": {},
     "output_type": "execute_result"
    }
   ],
   "source": [
    "# Identify the fields containing missing values and the amount\n",
    "titanic_data.isnull().sum()"
   ]
  },
  {
   "cell_type": "markdown",
   "metadata": {},
   "source": [
    "> The numbers above indicate there are only 3 fields containing missing/NA values: **_Age, Cabin_** and **_Embarked_**. However, the field _Cabin_ may have little affect, thus there is no change at present. _Embarked_ contains only 2 Na, which is evry low relative to the total. So we decide to abandon the two rows. As for field _Age_, filling the NaN with **mean** value shold be a better choice."
   ]
  },
  {
   "cell_type": "code",
   "execution_count": 253,
   "metadata": {
    "collapsed": true,
    "scrolled": true
   },
   "outputs": [],
   "source": [
    "# Abandon those rows where 'Emvarked' is NaN\n",
    "titanic_data['Embarked'].dropna(inplace=True)"
   ]
  },
  {
   "cell_type": "code",
   "execution_count": 254,
   "metadata": {},
   "outputs": [
    {
     "data": {
      "text/plain": [
       "Pclass  Sex   \n",
       "1       female    34.611765\n",
       "        male      41.281386\n",
       "2       female    28.722973\n",
       "        male      30.740707\n",
       "3       female    21.750000\n",
       "        male      26.507589\n",
       "Name: Age, dtype: float64"
      ]
     },
     "execution_count": 254,
     "metadata": {},
     "output_type": "execute_result"
    }
   ],
   "source": [
    "grouped_copy_age = titanic_copy.groupby(['Pclass', 'Sex']).mean()['Age']\n",
    "grouped_copy_age"
   ]
  },
  {
   "cell_type": "code",
   "execution_count": 325,
   "metadata": {
    "scrolled": true
   },
   "outputs": [
    {
     "data": {
      "text/html": [
       "<div>\n",
       "<style>\n",
       "    .dataframe thead tr:only-child th {\n",
       "        text-align: right;\n",
       "    }\n",
       "\n",
       "    .dataframe thead th {\n",
       "        text-align: left;\n",
       "    }\n",
       "\n",
       "    .dataframe tbody tr th {\n",
       "        vertical-align: top;\n",
       "    }\n",
       "</style>\n",
       "<table border=\"1\" class=\"dataframe\">\n",
       "  <thead>\n",
       "    <tr style=\"text-align: right;\">\n",
       "      <th></th>\n",
       "      <th>Age</th>\n",
       "    </tr>\n",
       "  </thead>\n",
       "  <tbody>\n",
       "  </tbody>\n",
       "</table>\n",
       "</div>"
      ],
      "text/plain": [
       "Empty DataFrame\n",
       "Columns: [Age]\n",
       "Index: []"
      ]
     },
     "execution_count": 325,
     "metadata": {},
     "output_type": "execute_result"
    }
   ],
   "source": [
    "fixed_age = pd.DataFrame(columns=['Age'])\n",
    "fixed_age"
   ]
  },
  {
   "cell_type": "code",
   "execution_count": 326,
   "metadata": {
    "collapsed": true
   },
   "outputs": [],
   "source": [
    "def fix_age(pclass, sex):\n",
    "\n",
    "    missing_age = titanic_data[(titanic_data['Pclass']==pclass) & (titanic_data['Sex']==sex)]['Age']\n",
    "    \n",
    "    # Replace the missing values of 'Age' column with the mean value.\n",
    "    filled_value = grouped_copy_age.loc[pclass, sex]\n",
    "    missing_age.fillna(filled_value, inplace=True)\n",
    "\n",
    "    return pd.DataFrame(missing_age)"
   ]
  },
  {
   "cell_type": "code",
   "execution_count": 329,
   "metadata": {
    "scrolled": true
   },
   "outputs": [],
   "source": [
    "female1_age = fix_age(1, 'female')\n",
    "female2_age = fix_age(2, 'female')\n",
    "female3_age = fix_age(3, 'female')\n",
    "male1_age = fix_age(1, 'male')\n",
    "male2_age = fix_age(2, 'male')\n",
    "male3_age = fix_age(3, 'male')"
   ]
  },
  {
   "cell_type": "code",
   "execution_count": null,
   "metadata": {
    "collapsed": true
   },
   "outputs": [],
   "source": [
    "frames = "
   ]
  },
  {
   "cell_type": "code",
   "execution_count": 335,
   "metadata": {},
   "outputs": [
    {
     "name": "stdout",
     "output_type": "stream",
     "text": [
      "           Age\n",
      "1    38.000000\n",
      "3    35.000000\n",
      "11   58.000000\n",
      "31   34.611765\n",
      "52   49.000000\n",
      "61   38.000000\n",
      "88   23.000000\n",
      "136  19.000000\n",
      "151  22.000000\n",
      "166  34.611765\n",
      "177  50.000000\n",
      "194  44.000000\n",
      "195  58.000000\n",
      "215  31.000000\n",
      "218  32.000000\n",
      "230  35.000000\n",
      "256  34.611765\n",
      "257  30.000000\n",
      "258  35.000000\n",
      "268  58.000000\n",
      "269  35.000000\n",
      "275  63.000000\n",
      "290  26.000000\n",
      "291  19.000000\n",
      "297   2.000000\n",
      "299  50.000000\n",
      "306  34.611765\n",
      "307  17.000000\n",
      "309  30.000000\n",
      "310  24.000000\n",
      "..         ...\n",
      "591  52.000000\n",
      "609  40.000000\n",
      "627  21.000000\n",
      "641  24.000000\n",
      "669  34.611765\n",
      "689  15.000000\n",
      "700  18.000000\n",
      "708  22.000000\n",
      "710  24.000000\n",
      "716  38.000000\n",
      "730  29.000000\n",
      "742  21.000000\n",
      "759  33.000000\n",
      "763  36.000000\n",
      "765  51.000000\n",
      "779  43.000000\n",
      "781  17.000000\n",
      "796  49.000000\n",
      "809  33.000000\n",
      "820  52.000000\n",
      "829  62.000000\n",
      "835  39.000000\n",
      "842  30.000000\n",
      "849  34.611765\n",
      "853  16.000000\n",
      "856  45.000000\n",
      "862  48.000000\n",
      "871  47.000000\n",
      "879  56.000000\n",
      "887  19.000000\n",
      "\n",
      "[94 rows x 1 columns]\n",
      "           Age\n",
      "6    54.000000\n",
      "23   28.000000\n",
      "27   19.000000\n",
      "30   40.000000\n",
      "34   28.000000\n",
      "35   42.000000\n",
      "54   65.000000\n",
      "55   41.281386\n",
      "62   45.000000\n",
      "64   41.281386\n",
      "83   28.000000\n",
      "92   46.000000\n",
      "96   71.000000\n",
      "97   23.000000\n",
      "102  21.000000\n",
      "110  47.000000\n",
      "118  24.000000\n",
      "124  54.000000\n",
      "137  37.000000\n",
      "139  24.000000\n",
      "155  51.000000\n",
      "168  41.281386\n",
      "170  61.000000\n",
      "174  56.000000\n",
      "185  41.281386\n",
      "187  45.000000\n",
      "209  40.000000\n",
      "224  38.000000\n",
      "245  44.000000\n",
      "248  37.000000\n",
      "..         ...\n",
      "662  47.000000\n",
      "671  31.000000\n",
      "679  36.000000\n",
      "681  27.000000\n",
      "690  31.000000\n",
      "694  60.000000\n",
      "698  49.000000\n",
      "701  35.000000\n",
      "707  42.000000\n",
      "711  41.281386\n",
      "712  48.000000\n",
      "724  27.000000\n",
      "737  35.000000\n",
      "740  41.281386\n",
      "741  36.000000\n",
      "745  70.000000\n",
      "748  19.000000\n",
      "766  41.281386\n",
      "782  29.000000\n",
      "789  46.000000\n",
      "793  41.281386\n",
      "802  11.000000\n",
      "806  39.000000\n",
      "815  41.281386\n",
      "822  38.000000\n",
      "839  41.281386\n",
      "857  51.000000\n",
      "867  31.000000\n",
      "872  33.000000\n",
      "889  26.000000\n",
      "\n",
      "[122 rows x 1 columns]\n",
      "           Age\n",
      "9    14.000000\n",
      "15   55.000000\n",
      "41   27.000000\n",
      "43    3.000000\n",
      "53   29.000000\n",
      "56   21.000000\n",
      "58    5.000000\n",
      "66   29.000000\n",
      "84   17.000000\n",
      "98   34.000000\n",
      "123  32.500000\n",
      "133  29.000000\n",
      "161  40.000000\n",
      "190  32.000000\n",
      "199  24.000000\n",
      "211  35.000000\n",
      "237   8.000000\n",
      "247  24.000000\n",
      "259  50.000000\n",
      "272  41.000000\n",
      "303  28.722973\n",
      "312  26.000000\n",
      "316  24.000000\n",
      "322  30.000000\n",
      "323  22.000000\n",
      "327  36.000000\n",
      "345  24.000000\n",
      "346  40.000000\n",
      "357  38.000000\n",
      "387  36.000000\n",
      "..         ...\n",
      "518  36.000000\n",
      "526  50.000000\n",
      "530   2.000000\n",
      "535   7.000000\n",
      "546  19.000000\n",
      "576  34.000000\n",
      "580  25.000000\n",
      "596  28.722973\n",
      "600  24.000000\n",
      "608  22.000000\n",
      "615  24.000000\n",
      "618   4.000000\n",
      "635  28.000000\n",
      "651  18.000000\n",
      "670  40.000000\n",
      "706  45.000000\n",
      "717  27.000000\n",
      "720   6.000000\n",
      "726  30.000000\n",
      "747  30.000000\n",
      "750   4.000000\n",
      "754  48.000000\n",
      "772  57.000000\n",
      "774  54.000000\n",
      "801  31.000000\n",
      "854  44.000000\n",
      "865  42.000000\n",
      "866  27.000000\n",
      "874  28.000000\n",
      "880  25.000000\n",
      "\n",
      "[76 rows x 1 columns]\n",
      "           Age\n",
      "17   30.740707\n",
      "20   35.000000\n",
      "21   34.000000\n",
      "33   66.000000\n",
      "70   32.000000\n",
      "72   21.000000\n",
      "78    0.830000\n",
      "99   34.000000\n",
      "117  29.000000\n",
      "120  21.000000\n",
      "122  32.500000\n",
      "134  25.000000\n",
      "135  23.000000\n",
      "144  18.000000\n",
      "145  19.000000\n",
      "148  36.500000\n",
      "149  42.000000\n",
      "150  51.000000\n",
      "178  30.000000\n",
      "181  30.740707\n",
      "183   1.000000\n",
      "191  19.000000\n",
      "193   3.000000\n",
      "213  30.000000\n",
      "217  42.000000\n",
      "219  30.000000\n",
      "221  27.000000\n",
      "226  19.000000\n",
      "228  18.000000\n",
      "232  59.000000\n",
      "..         ...\n",
      "672  70.000000\n",
      "673  31.000000\n",
      "674  30.740707\n",
      "684  60.000000\n",
      "685  25.000000\n",
      "695  52.000000\n",
      "705  39.000000\n",
      "714  52.000000\n",
      "722  34.000000\n",
      "723  50.000000\n",
      "728  25.000000\n",
      "732  30.740707\n",
      "733  23.000000\n",
      "734  23.000000\n",
      "755   0.670000\n",
      "757  18.000000\n",
      "791  16.000000\n",
      "795  39.000000\n",
      "800  34.000000\n",
      "808  39.000000\n",
      "812  35.000000\n",
      "817  31.000000\n",
      "827   1.000000\n",
      "831   0.830000\n",
      "841  16.000000\n",
      "848  28.000000\n",
      "861  21.000000\n",
      "864  24.000000\n",
      "883  28.000000\n",
      "886  27.000000\n",
      "\n",
      "[108 rows x 1 columns]\n",
      "       Age\n",
      "2    26.00\n",
      "8    27.00\n",
      "10    4.00\n",
      "14   14.00\n",
      "18   31.00\n",
      "19   21.75\n",
      "22   15.00\n",
      "24    8.00\n",
      "25   38.00\n",
      "28   21.75\n",
      "32   21.75\n",
      "38   18.00\n",
      "39   14.00\n",
      "40   40.00\n",
      "44   19.00\n",
      "47   21.75\n",
      "49   18.00\n",
      "68   17.00\n",
      "71   16.00\n",
      "79   30.00\n",
      "82   21.75\n",
      "85   33.00\n",
      "100  28.00\n",
      "106  21.00\n",
      "109  21.75\n",
      "111  14.50\n",
      "113  20.00\n",
      "114  17.00\n",
      "119   2.00\n",
      "128  21.75\n",
      "..     ...\n",
      "657  32.00\n",
      "677  18.00\n",
      "678  43.00\n",
      "680  21.75\n",
      "691   4.00\n",
      "697  21.75\n",
      "702  18.00\n",
      "727  21.75\n",
      "729  25.00\n",
      "736  48.00\n",
      "767  30.50\n",
      "777   5.00\n",
      "780  13.00\n",
      "786  18.00\n",
      "792  21.75\n",
      "797  31.00\n",
      "799  30.00\n",
      "807  18.00\n",
      "813   6.00\n",
      "816  23.00\n",
      "823  27.00\n",
      "830  15.00\n",
      "852   9.00\n",
      "855  18.00\n",
      "858  24.00\n",
      "863  21.75\n",
      "875  15.00\n",
      "882  22.00\n",
      "885  39.00\n",
      "888  21.75\n",
      "\n",
      "[144 rows x 1 columns]\n",
      "           Age\n",
      "0    22.000000\n",
      "4    35.000000\n",
      "5    26.507589\n",
      "7     2.000000\n",
      "12   20.000000\n",
      "13   39.000000\n",
      "16    2.000000\n",
      "26   26.507589\n",
      "29   26.507589\n",
      "36   26.507589\n",
      "37   21.000000\n",
      "42   26.507589\n",
      "45   26.507589\n",
      "46   26.507589\n",
      "48   26.507589\n",
      "50    7.000000\n",
      "51   21.000000\n",
      "57   28.500000\n",
      "59   11.000000\n",
      "60   22.000000\n",
      "63    4.000000\n",
      "65   26.507589\n",
      "67   19.000000\n",
      "69   26.000000\n",
      "73   26.000000\n",
      "74   32.000000\n",
      "75   25.000000\n",
      "76   26.507589\n",
      "77   26.507589\n",
      "80   22.000000\n",
      "..         ...\n",
      "824   2.000000\n",
      "825  26.507589\n",
      "826  26.507589\n",
      "828  26.507589\n",
      "832  26.507589\n",
      "833  23.000000\n",
      "834  18.000000\n",
      "836  21.000000\n",
      "837  26.507589\n",
      "838  32.000000\n",
      "840  20.000000\n",
      "843  34.500000\n",
      "844  17.000000\n",
      "845  42.000000\n",
      "846  26.507589\n",
      "847  35.000000\n",
      "850   4.000000\n",
      "851  74.000000\n",
      "859  26.507589\n",
      "860  41.000000\n",
      "868  26.507589\n",
      "869   4.000000\n",
      "870  26.000000\n",
      "873  47.000000\n",
      "876  20.000000\n",
      "877  19.000000\n",
      "878  26.507589\n",
      "881  33.000000\n",
      "884  25.000000\n",
      "890  32.000000\n",
      "\n",
      "[347 rows x 1 columns]\n"
     ]
    }
   ],
   "source": [
    "for pclass, sex in grouped_copy.index:\n",
    "    fix_age(pclass, sex)"
   ]
  },
  {
   "cell_type": "code",
   "execution_count": 328,
   "metadata": {},
   "outputs": [
    {
     "ename": "TypeError",
     "evalue": "first argument must be an iterable of pandas objects, you passed an object of type \"DataFrame\"",
     "output_type": "error",
     "traceback": [
      "\u001b[1;31m---------------------------------------------------------------------------\u001b[0m",
      "\u001b[1;31mTypeError\u001b[0m                                 Traceback (most recent call last)",
      "\u001b[1;32m<ipython-input-328-31eb5439be01>\u001b[0m in \u001b[0;36m<module>\u001b[1;34m()\u001b[0m\n\u001b[1;32m----> 1\u001b[1;33m \u001b[0mresult\u001b[0m \u001b[1;33m=\u001b[0m \u001b[0mpd\u001b[0m\u001b[1;33m.\u001b[0m\u001b[0mconcat\u001b[0m\u001b[1;33m(\u001b[0m\u001b[0mframes\u001b[0m\u001b[1;33m)\u001b[0m\u001b[1;33m\u001b[0m\u001b[0m\n\u001b[0m\u001b[0;32m      2\u001b[0m \u001b[0mlen\u001b[0m\u001b[1;33m(\u001b[0m\u001b[0mresult\u001b[0m\u001b[1;33m)\u001b[0m\u001b[1;33m\u001b[0m\u001b[0m\n",
      "\u001b[1;32mD:\\ProgramData\\Anaconda3\\envs\\DAND\\lib\\site-packages\\pandas\\core\\reshape\\concat.pyc\u001b[0m in \u001b[0;36mconcat\u001b[1;34m(objs, axis, join, join_axes, ignore_index, keys, levels, names, verify_integrity, copy)\u001b[0m\n\u001b[0;32m    204\u001b[0m                        \u001b[0mkeys\u001b[0m\u001b[1;33m=\u001b[0m\u001b[0mkeys\u001b[0m\u001b[1;33m,\u001b[0m \u001b[0mlevels\u001b[0m\u001b[1;33m=\u001b[0m\u001b[0mlevels\u001b[0m\u001b[1;33m,\u001b[0m \u001b[0mnames\u001b[0m\u001b[1;33m=\u001b[0m\u001b[0mnames\u001b[0m\u001b[1;33m,\u001b[0m\u001b[1;33m\u001b[0m\u001b[0m\n\u001b[0;32m    205\u001b[0m                        \u001b[0mverify_integrity\u001b[0m\u001b[1;33m=\u001b[0m\u001b[0mverify_integrity\u001b[0m\u001b[1;33m,\u001b[0m\u001b[1;33m\u001b[0m\u001b[0m\n\u001b[1;32m--> 206\u001b[1;33m                        copy=copy)\n\u001b[0m\u001b[0;32m    207\u001b[0m     \u001b[1;32mreturn\u001b[0m \u001b[0mop\u001b[0m\u001b[1;33m.\u001b[0m\u001b[0mget_result\u001b[0m\u001b[1;33m(\u001b[0m\u001b[1;33m)\u001b[0m\u001b[1;33m\u001b[0m\u001b[0m\n\u001b[0;32m    208\u001b[0m \u001b[1;33m\u001b[0m\u001b[0m\n",
      "\u001b[1;32mD:\\ProgramData\\Anaconda3\\envs\\DAND\\lib\\site-packages\\pandas\\core\\reshape\\concat.pyc\u001b[0m in \u001b[0;36m__init__\u001b[1;34m(self, objs, axis, join, join_axes, keys, levels, names, ignore_index, verify_integrity, copy)\u001b[0m\n\u001b[0;32m    219\u001b[0m             raise TypeError('first argument must be an iterable of pandas '\n\u001b[0;32m    220\u001b[0m                             \u001b[1;34m'objects, you passed an object of type '\u001b[0m\u001b[1;33m\u001b[0m\u001b[0m\n\u001b[1;32m--> 221\u001b[1;33m                             '\"{0}\"'.format(type(objs).__name__))\n\u001b[0m\u001b[0;32m    222\u001b[0m \u001b[1;33m\u001b[0m\u001b[0m\n\u001b[0;32m    223\u001b[0m         \u001b[1;32mif\u001b[0m \u001b[0mjoin\u001b[0m \u001b[1;33m==\u001b[0m \u001b[1;34m'outer'\u001b[0m\u001b[1;33m:\u001b[0m\u001b[1;33m\u001b[0m\u001b[0m\n",
      "\u001b[1;31mTypeError\u001b[0m: first argument must be an iterable of pandas objects, you passed an object of type \"DataFrame\""
     ]
    }
   ],
   "source": [
    "result = pd.concat(frames)\n",
    "len(result)"
   ]
  },
  {
   "cell_type": "code",
   "execution_count": null,
   "metadata": {},
   "outputs": [],
   "source": [
    "grouped_copy_age.iteritems"
   ]
  },
  {
   "cell_type": "code",
   "execution_count": null,
   "metadata": {
    "scrolled": false
   },
   "outputs": [],
   "source": [
    "for record in grouped_copy_age.iteritems:\n",
    "    print record"
   ]
  },
  {
   "cell_type": "code",
   "execution_count": null,
   "metadata": {},
   "outputs": [],
   "source": [
    "fixed_age = titanic_data[(titanic_data['Pclass']==1) & (titanic_data['Sex']=='female')]['Age']\n",
    "\n",
    "fill_value = grouped_copy_age.loc[1, 'female']\n",
    "\n",
    "# Replace the missing values of 'Age' column with the mean value.\n",
    "fixed_age.fillna(fill_value, inplace=True)\n",
    "\n",
    "type(fixed_age)"
   ]
  },
  {
   "cell_type": "code",
   "execution_count": null,
   "metadata": {},
   "outputs": [],
   "source": [
    "titanic_data['Age'][31]"
   ]
  },
  {
   "cell_type": "code",
   "execution_count": null,
   "metadata": {
    "collapsed": true
   },
   "outputs": [],
   "source": [
    "for row in titanic_data.itertuples():\n",
    "    if row[a]==1 and row[b]=='female':\n",
    "        print row[c]"
   ]
  },
  {
   "cell_type": "code",
   "execution_count": null,
   "metadata": {
    "collapsed": true
   },
   "outputs": [],
   "source": []
  },
  {
   "cell_type": "code",
   "execution_count": null,
   "metadata": {
    "collapsed": true
   },
   "outputs": [],
   "source": [
    "grouped.loc[1, 'male']"
   ]
  },
  {
   "cell_type": "code",
   "execution_count": null,
   "metadata": {
    "collapsed": true
   },
   "outputs": [],
   "source": [
    "grouped = titanic_data.groupby('Age', as_index=False).mean()\n",
    "bar_title = 'Mean survived people by %s' % 'Sex'\n",
    "bar_title"
   ]
  },
  {
   "cell_type": "code",
   "execution_count": null,
   "metadata": {
    "collapsed": true
   },
   "outputs": [],
   "source": [
    "grouped['Age'].plot.bar(title=bar_title, alpha=0.5)\n",
    "plt.show()"
   ]
  },
  {
   "cell_type": "markdown",
   "metadata": {},
   "source": [
    "As described above, the length between 'unique_id' and 'df' is equal, which shows the original dataset has the **unique PassengerId**."
   ]
  },
  {
   "cell_type": "code",
   "execution_count": null,
   "metadata": {
    "collapsed": true,
    "scrolled": true
   },
   "outputs": [],
   "source": [
    "corr_coef('Age')"
   ]
  },
  {
   "cell_type": "code",
   "execution_count": null,
   "metadata": {
    "collapsed": true
   },
   "outputs": [],
   "source": [
    "corr_coef('Survived', 'Pclass')"
   ]
  },
  {
   "cell_type": "code",
   "execution_count": null,
   "metadata": {
    "collapsed": true,
    "scrolled": true
   },
   "outputs": [],
   "source": [
    "data_by_pclass = titanic_data.groupby('Pclass').mean()\n",
    "Survived = data_by_pclass['Survived']"
   ]
  },
  {
   "cell_type": "code",
   "execution_count": null,
   "metadata": {
    "collapsed": true,
    "scrolled": false
   },
   "outputs": [],
   "source": [
    "Survived.plot.bar(color='k', alpha=0.5)\n",
    "plt.show()"
   ]
  },
  {
   "cell_type": "markdown",
   "metadata": {},
   "source": [
    "***\n",
    "At this point, the data has been initially cleaned up. Let's begin to explore the data."
   ]
  },
  {
   "cell_type": "code",
   "execution_count": null,
   "metadata": {
    "collapsed": true
   },
   "outputs": [],
   "source": [
    "data_by_survived = df.groupby('Survived')\n",
    "data_by_survived.mean()"
   ]
  },
  {
   "cell_type": "code",
   "execution_count": null,
   "metadata": {
    "collapsed": true
   },
   "outputs": [],
   "source": []
  },
  {
   "cell_type": "markdown",
   "metadata": {},
   "source": [
    "## 4. Drawing Conclusions"
   ]
  },
  {
   "cell_type": "code",
   "execution_count": null,
   "metadata": {
    "collapsed": true
   },
   "outputs": [],
   "source": []
  },
  {
   "cell_type": "markdown",
   "metadata": {},
   "source": [
    "## 5. Data Visualization"
   ]
  },
  {
   "cell_type": "code",
   "execution_count": null,
   "metadata": {
    "collapsed": true
   },
   "outputs": [],
   "source": []
  },
  {
   "cell_type": "code",
   "execution_count": null,
   "metadata": {
    "collapsed": true,
    "scrolled": true
   },
   "outputs": [],
   "source": [
    "# Locate the items containing NaN attacked to 'Embarked'.\n",
    "df[df['Embarked'].isnull().values==True]\n",
    "\n",
    "\n",
    "# Replace the values of 'Sex' with 0 and 1\n",
    "titanic_data['Sex'] = titanic_data['Sex'].map({'male': 0, 'female': 1}).astype(str).astype(int)"
   ]
  },
  {
   "cell_type": "code",
   "execution_count": null,
   "metadata": {
    "collapsed": true
   },
   "outputs": [],
   "source": [
    "def corr_coef(item):\n",
    "    Person_r = np.corrcoef(titanic_data['Survived'], titanic_data[item])\n",
    "    print \"The correlation coefficient between Survived and %s is: %r.\" % (item, Person_r[0, 1])\n",
    "    grouped = titanic_data.groupby(item, as_index=False).mean()\n",
    "    bar_title = 'Mean survived people by %s' % item \n",
    "    grouped[item].plot.bar(title=bar_title, color='k', alpha=0.5)\n",
    "    plt.show()"
   ]
  },
  {
   "cell_type": "code",
   "execution_count": null,
   "metadata": {
    "collapsed": true
   },
   "outputs": [],
   "source": []
  }
 ],
 "metadata": {
  "kernelspec": {
   "display_name": "Python [conda env:DAND]",
   "language": "python",
   "name": "conda-env-DAND-py"
  },
  "language_info": {
   "codemirror_mode": {
    "name": "ipython",
    "version": 2
   },
   "file_extension": ".py",
   "mimetype": "text/x-python",
   "name": "python",
   "nbconvert_exporter": "python",
   "pygments_lexer": "ipython2",
   "version": "2.7.13"
  }
 },
 "nbformat": 4,
 "nbformat_minor": 2
}
