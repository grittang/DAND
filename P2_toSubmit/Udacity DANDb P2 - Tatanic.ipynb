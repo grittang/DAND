{
 "cells": [
  {
   "cell_type": "markdown",
   "metadata": {},
   "source": [
    "## [1. Question Posed](#Question)\n",
    "\n",
    "## [2. Handling the missing/NA values](#NA)\n",
    "\n",
    "## [3. Exploring Data and Visualization](#Exploring)\n",
    "\n",
    "[3.1 Age, Sex, Pclass and Survival Rate](#Age, Sex, Pclass)\n",
    "\n",
    "[3.2 Other Factors and Survival Rate](#Others)\n",
    "\n",
    "[3.3 What patterns can be found in the ticket class?](#Pclass)\n",
    "\n",
    "## [4. Drawing Conclusions](#Conclusions)"
   ]
  },
  {
   "cell_type": "markdown",
   "metadata": {},
   "source": [
    "---\n",
    "<a id=\"Question\"></a>\n",
    "## 1. Question Posed\n",
    "\n",
    "As we all konw, Titanic event is one of the most famous disasters throughout the world. More than 1500 people total died, including passengers and crew, and there were an estimated 2224 people aboard the ship.  I'm curious about the survival rate patterns over age, sex and social-economic statu, e.g. \n",
    "- During all the rescues, was the priority given to the children? What about the females?\n",
    "- Were people with low social-economic status treated equally during the rescues?\n",
    "\n",
    "Thus the follwing questions are my concern:\n",
    "\n",
    "- **What variables are related to survival rate?**\n",
    "\n",
    "    - What gender has a better survival rate?\n",
    "    - Among the dead, how old is the oldest person？ And the youngest?\n",
    "    - What are the survival rate patterns over age?\n",
    "    - Are those passengers having higher ticket class likely to survive?\n",
    "    - How does the interpersonal relationships (*siblings/spouses* and *parents/children*) affect the survival rate?\n",
    "   \n",
    "   \n",
    "- **What patterns can I find on the ticket class?**\n",
    "\n",
    "    - What's the distribution of ages and genders on each class?\n",
    "    - What port did they embark from?"
   ]
  },
  {
   "cell_type": "markdown",
   "metadata": {},
   "source": [
    "DataSet Source: https://www.kaggle.com/c/titanic/data"
   ]
  },
  {
   "cell_type": "markdown",
   "metadata": {},
   "source": [
    "***\n",
    "<a id='NA'></a>\n",
    "## 2. Handling the missing/NA values\n",
    "Before investigating the survived rata pattern over age, we need to check the **missing/NA values** related to 'Age' and fix them."
   ]
  },
  {
   "cell_type": "code",
   "execution_count": 104,
   "metadata": {
    "scrolled": false
   },
   "outputs": [
    {
     "data": {
      "text/plain": [
       "count    714.000000\n",
       "mean      29.699118\n",
       "std       14.526497\n",
       "min        0.420000\n",
       "25%       20.125000\n",
       "50%       28.000000\n",
       "75%       38.000000\n",
       "max       80.000000\n",
       "Name: Age, dtype: float64"
      ]
     },
     "execution_count": 104,
     "metadata": {},
     "output_type": "execute_result"
    }
   ],
   "source": [
    "# First of all, We need to load datas from the csv file.\n",
    "# Import required modules\n",
    "import numpy as np\n",
    "import pandas as pd\n",
    "from pandas import Series, DataFrame\n",
    "import matplotlib.pyplot as plt\n",
    "import seaborn as sns\n",
    "\n",
    "# load the csv file\n",
    "data = pd.read_csv('titanic-data.csv')\n",
    "data.Age.describe()"
   ]
  },
  {
   "cell_type": "code",
   "execution_count": 105,
   "metadata": {
    "scrolled": true
   },
   "outputs": [
    {
     "data": {
      "text/plain": [
       "PassengerId      0\n",
       "Survived         0\n",
       "Pclass           0\n",
       "Name             0\n",
       "Sex              0\n",
       "Age            177\n",
       "SibSp            0\n",
       "Parch            0\n",
       "Ticket           0\n",
       "Fare             0\n",
       "Cabin          687\n",
       "Embarked         2\n",
       "dtype: int64"
      ]
     },
     "execution_count": 105,
     "metadata": {},
     "output_type": "execute_result"
    }
   ],
   "source": [
    "# Identify the fields containing missing/NA values and the amount\n",
    "data.isnull().sum()"
   ]
  },
  {
   "cell_type": "code",
   "execution_count": 106,
   "metadata": {
    "scrolled": false
   },
   "outputs": [
    {
     "data": {
      "text/plain": [
       "Pclass  Sex   \n",
       "1       female    34.611765\n",
       "        male      41.281386\n",
       "2       female    28.722973\n",
       "        male      30.740707\n",
       "3       female    21.750000\n",
       "        male      26.507589\n",
       "Name: Age, dtype: float64"
      ]
     },
     "execution_count": 106,
     "metadata": {},
     "output_type": "execute_result"
    }
   ],
   "source": [
    "data_by_PclassSex = data.groupby(['Pclass', 'Sex']).mean()['Age']\n",
    "data_by_PclassSex"
   ]
  },
  {
   "cell_type": "code",
   "execution_count": 107,
   "metadata": {
    "scrolled": true
   },
   "outputs": [
    {
     "data": {
      "text/html": [
       "<div>\n",
       "<style>\n",
       "    .dataframe thead tr:only-child th {\n",
       "        text-align: right;\n",
       "    }\n",
       "\n",
       "    .dataframe thead th {\n",
       "        text-align: left;\n",
       "    }\n",
       "\n",
       "    .dataframe tbody tr th {\n",
       "        vertical-align: top;\n",
       "    }\n",
       "</style>\n",
       "<table border=\"1\" class=\"dataframe\">\n",
       "  <thead>\n",
       "    <tr style=\"text-align: right;\">\n",
       "      <th></th>\n",
       "      <th>PassengerId</th>\n",
       "      <th>Survived</th>\n",
       "      <th>Pclass</th>\n",
       "      <th>Name</th>\n",
       "      <th>Sex</th>\n",
       "      <th>Age</th>\n",
       "      <th>SibSp</th>\n",
       "      <th>Parch</th>\n",
       "      <th>Ticket</th>\n",
       "      <th>Fare</th>\n",
       "      <th>Cabin</th>\n",
       "      <th>Embarked</th>\n",
       "    </tr>\n",
       "  </thead>\n",
       "  <tbody>\n",
       "    <tr>\n",
       "      <th>0</th>\n",
       "      <td>1</td>\n",
       "      <td>0</td>\n",
       "      <td>3</td>\n",
       "      <td>Braund, Mr. Owen Harris</td>\n",
       "      <td>male</td>\n",
       "      <td>22.0</td>\n",
       "      <td>1</td>\n",
       "      <td>0</td>\n",
       "      <td>A/5 21171</td>\n",
       "      <td>7.2500</td>\n",
       "      <td>NaN</td>\n",
       "      <td>S</td>\n",
       "    </tr>\n",
       "    <tr>\n",
       "      <th>1</th>\n",
       "      <td>2</td>\n",
       "      <td>1</td>\n",
       "      <td>1</td>\n",
       "      <td>Cumings, Mrs. John Bradley (Florence Briggs Th...</td>\n",
       "      <td>female</td>\n",
       "      <td>38.0</td>\n",
       "      <td>1</td>\n",
       "      <td>0</td>\n",
       "      <td>PC 17599</td>\n",
       "      <td>71.2833</td>\n",
       "      <td>C85</td>\n",
       "      <td>C</td>\n",
       "    </tr>\n",
       "    <tr>\n",
       "      <th>2</th>\n",
       "      <td>3</td>\n",
       "      <td>1</td>\n",
       "      <td>3</td>\n",
       "      <td>Heikkinen, Miss. Laina</td>\n",
       "      <td>female</td>\n",
       "      <td>26.0</td>\n",
       "      <td>0</td>\n",
       "      <td>0</td>\n",
       "      <td>STON/O2. 3101282</td>\n",
       "      <td>7.9250</td>\n",
       "      <td>NaN</td>\n",
       "      <td>S</td>\n",
       "    </tr>\n",
       "    <tr>\n",
       "      <th>3</th>\n",
       "      <td>4</td>\n",
       "      <td>1</td>\n",
       "      <td>1</td>\n",
       "      <td>Futrelle, Mrs. Jacques Heath (Lily May Peel)</td>\n",
       "      <td>female</td>\n",
       "      <td>35.0</td>\n",
       "      <td>1</td>\n",
       "      <td>0</td>\n",
       "      <td>113803</td>\n",
       "      <td>53.1000</td>\n",
       "      <td>C123</td>\n",
       "      <td>S</td>\n",
       "    </tr>\n",
       "    <tr>\n",
       "      <th>4</th>\n",
       "      <td>5</td>\n",
       "      <td>0</td>\n",
       "      <td>3</td>\n",
       "      <td>Allen, Mr. William Henry</td>\n",
       "      <td>male</td>\n",
       "      <td>35.0</td>\n",
       "      <td>0</td>\n",
       "      <td>0</td>\n",
       "      <td>373450</td>\n",
       "      <td>8.0500</td>\n",
       "      <td>NaN</td>\n",
       "      <td>S</td>\n",
       "    </tr>\n",
       "  </tbody>\n",
       "</table>\n",
       "</div>"
      ],
      "text/plain": [
       "   PassengerId  Survived  Pclass  \\\n",
       "0            1         0       3   \n",
       "1            2         1       1   \n",
       "2            3         1       3   \n",
       "3            4         1       1   \n",
       "4            5         0       3   \n",
       "\n",
       "                                                Name     Sex   Age  SibSp  \\\n",
       "0                            Braund, Mr. Owen Harris    male  22.0      1   \n",
       "1  Cumings, Mrs. John Bradley (Florence Briggs Th...  female  38.0      1   \n",
       "2                             Heikkinen, Miss. Laina  female  26.0      0   \n",
       "3       Futrelle, Mrs. Jacques Heath (Lily May Peel)  female  35.0      1   \n",
       "4                           Allen, Mr. William Henry    male  35.0      0   \n",
       "\n",
       "   Parch            Ticket     Fare Cabin Embarked  \n",
       "0      0         A/5 21171   7.2500   NaN        S  \n",
       "1      0          PC 17599  71.2833   C85        C  \n",
       "2      0  STON/O2. 3101282   7.9250   NaN        S  \n",
       "3      0            113803  53.1000  C123        S  \n",
       "4      0            373450   8.0500   NaN        S  "
      ]
     },
     "execution_count": 107,
     "metadata": {},
     "output_type": "execute_result"
    }
   ],
   "source": [
    "# Create a empty DataFrame to contenate multiple fixed DataFrame\n",
    "fixed_age = pd.DataFrame(columns=['Age'])\n",
    "\n",
    "# Replace the NA values of Age with the mean age by categories\n",
    "for pclass, sex in data_by_PclassSex.index:\n",
    "    filtered_age = data[(data['Pclass']==pclass) & (data['Sex']==sex)]['Age']\n",
    "    filtered_age = filtered_age.fillna(data_by_PclassSex.loc[pclass, sex])\n",
    "    fixed_age = pd.concat([fixed_age, filtered_age]).astype('float64')\n",
    "\n",
    "# Assign the fixed column to the origin \n",
    "# and see the first five rows of the dataset\n",
    "data['Age'] = fixed_age\n",
    "data.head()"
   ]
  },
  {
   "cell_type": "markdown",
   "metadata": {},
   "source": [
    "---\n",
    "<a id=\"Exploring\"></a>\n",
    "## 3. Exploring Data and Visualization\n",
    "<a id=\"Age, Sex, Pclass\"></a>\n",
    "#### 3.1 Age, Sex, Pclass and Survival Rate"
   ]
  },
  {
   "cell_type": "code",
   "execution_count": 108,
   "metadata": {},
   "outputs": [
    {
     "data": {
      "text/plain": [
       "array([ 0, 10, 20, 30, 40, 50, 60, 70, 80])"
      ]
     },
     "execution_count": 108,
     "metadata": {},
     "output_type": "execute_result"
    }
   ],
   "source": [
    "# Set the fixed bins\n",
    "bin_values = np.arange(start=0, stop=90, step=10)\n",
    "bin_values"
   ]
  },
  {
   "cell_type": "code",
   "execution_count": 354,
   "metadata": {
    "scrolled": true
   },
   "outputs": [
    {
     "data": {
      "image/png": "[encoded data removed]",
      "text/plain": [
       "<matplotlib.figure.Figure at 0xeaae908>"
      ]
     },
     "metadata": {},
     "output_type": "display_data"
    }
   ],
   "source": [
    "# Select the data of the dead\n",
    "dead = data[data['Survived']==0]\n",
    "\n",
    "# Plot the distribution of the dead's age by given bins\n",
    "dead['Age'].hist(color='darkslategray', alpha=0.5, bins=bin_values)\n",
    "plt.title('The distribution of the dead\\'s age')\n",
    "plt.show()"
   ]
  },
  {
   "cell_type": "markdown",
   "metadata": {},
   "source": [
    "The dead are mainly young people, especially those aged 20-30. The vast majority of the dead are less than 50 years old."
   ]
  },
  {
   "cell_type": "code",
   "execution_count": 110,
   "metadata": {
    "scrolled": false
   },
   "outputs": [
    {
     "data": {
      "text/plain": [
       "count    549.000000\n",
       "mean      30.025651\n",
       "std       12.769635\n",
       "min        1.000000\n",
       "25%       22.000000\n",
       "50%       26.507589\n",
       "75%       37.000000\n",
       "max       74.000000\n",
       "Name: Age, dtype: float64"
      ]
     },
     "execution_count": 110,
     "metadata": {},
     "output_type": "execute_result"
    }
   ],
   "source": [
    "# Get the descriptive statistics for the age of the dead\n",
    "dead['Age'].describe()"
   ]
  },
  {
   "cell_type": "markdown",
   "metadata": {},
   "source": [
    "The average age of the dead is about 30, and 75% of them aren't more than 37 years old. The oldest deceased is as much as 74 years old, and the youngest is only 1 years old. We may go through their profiles by the follwing way."
   ]
  },
  {
   "cell_type": "code",
   "execution_count": 111,
   "metadata": {
    "scrolled": true
   },
   "outputs": [
    {
     "data": {
      "text/plain": [
       "PassengerId                             165\n",
       "Survived                                  0\n",
       "Pclass                                    3\n",
       "Name           Panula, Master. Eino Viljami\n",
       "Sex                                    male\n",
       "Age                                       1\n",
       "SibSp                                     4\n",
       "Parch                                     1\n",
       "Ticket                              3101295\n",
       "Fare                                39.6875\n",
       "Cabin                                   NaN\n",
       "Embarked                                  S\n",
       "Name: 164, dtype: object"
      ]
     },
     "execution_count": 111,
     "metadata": {},
     "output_type": "execute_result"
    }
   ],
   "source": [
    "# Get the profile of the youngest deceased\n",
    "dead.loc[dead['Age'].argmin()]"
   ]
  },
  {
   "cell_type": "markdown",
   "metadata": {},
   "source": [
    "We can see the youngest deceased is a baby boy with the lowest ticket class."
   ]
  },
  {
   "cell_type": "code",
   "execution_count": 112,
   "metadata": {
    "scrolled": true
   },
   "outputs": [
    {
     "data": {
      "text/plain": [
       "PassengerId                    852\n",
       "Survived                         0\n",
       "Pclass                           3\n",
       "Name           Svensson, Mr. Johan\n",
       "Sex                           male\n",
       "Age                             74\n",
       "SibSp                            0\n",
       "Parch                            0\n",
       "Ticket                      347060\n",
       "Fare                         7.775\n",
       "Cabin                          NaN\n",
       "Embarked                         S\n",
       "Name: 851, dtype: object"
      ]
     },
     "execution_count": 112,
     "metadata": {},
     "output_type": "execute_result"
    }
   ],
   "source": [
    "# Get the profile of the oldest deceased\n",
    "dead.loc[dead['Age'].argmax()]"
   ]
  },
  {
   "cell_type": "markdown",
   "metadata": {},
   "source": [
    "The oldest deceased is a old man and he also has the lowest class of ticket."
   ]
  },
  {
   "cell_type": "code",
   "execution_count": 113,
   "metadata": {},
   "outputs": [
    {
     "data": {
      "text/plain": [
       "0    549\n",
       "1    342\n",
       "Name: Survived, dtype: int64"
      ]
     },
     "execution_count": 113,
     "metadata": {},
     "output_type": "execute_result"
    }
   ],
   "source": [
    "# Calculate the count of the dead and survivors\n",
    "count_survivors = data['Survived'].value_counts()\n",
    "count_survivors"
   ]
  },
  {
   "cell_type": "code",
   "execution_count": 114,
   "metadata": {},
   "outputs": [
    {
     "name": "stdout",
     "output_type": "stream",
     "text": [
      "The overall survival rate of the disaster is 0.384.\n"
     ]
    }
   ],
   "source": [
    "# Get the overall survival rate and round the number\n",
    "overall_survivalRate = count_survivors[1] / count_survivors.sum().astype(float)\n",
    "overall_survivalRate = round(overall_survivalRate, 3)\n",
    "print(\"The overall survival rate of the disaster is %s.\" % overall_survivalRate)"
   ]
  },
  {
   "cell_type": "code",
   "execution_count": 115,
   "metadata": {
    "collapsed": true
   },
   "outputs": [],
   "source": [
    "# Define a function to group the data to see the distribution of survivors\n",
    "# and get the survival rate of each group\n",
    "def group_survivalDistr(dataframe_name, field_name):\n",
    "    grouped_survived = dataframe_name.groupby([field_name, 'Survived']).size().unstack()\n",
    "    grouped_survived.fillna(0, inplace=True)\n",
    "    grouped_survived['ratio_survived'] = (grouped_survived[1] / \n",
    "                                             (grouped_survived[0] + \n",
    "                                              grouped_survived[1])).round(3)\n",
    "    return grouped_survived"
   ]
  },
  {
   "cell_type": "code",
   "execution_count": 116,
   "metadata": {},
   "outputs": [
    {
     "data": {
      "text/html": [
       "<div>\n",
       "<style>\n",
       "    .dataframe thead tr:only-child th {\n",
       "        text-align: right;\n",
       "    }\n",
       "\n",
       "    .dataframe thead th {\n",
       "        text-align: left;\n",
       "    }\n",
       "\n",
       "    .dataframe tbody tr th {\n",
       "        vertical-align: top;\n",
       "    }\n",
       "</style>\n",
       "<table border=\"1\" class=\"dataframe\">\n",
       "  <thead>\n",
       "    <tr style=\"text-align: right;\">\n",
       "      <th>Survived</th>\n",
       "      <th>0</th>\n",
       "      <th>1</th>\n",
       "      <th>ratio_survived</th>\n",
       "    </tr>\n",
       "    <tr>\n",
       "      <th>ageBinned</th>\n",
       "      <th></th>\n",
       "      <th></th>\n",
       "      <th></th>\n",
       "    </tr>\n",
       "  </thead>\n",
       "  <tbody>\n",
       "    <tr>\n",
       "      <th>(0, 10]</th>\n",
       "      <td>26</td>\n",
       "      <td>38</td>\n",
       "      <td>0.594</td>\n",
       "    </tr>\n",
       "    <tr>\n",
       "      <th>(10, 20]</th>\n",
       "      <td>71</td>\n",
       "      <td>44</td>\n",
       "      <td>0.383</td>\n",
       "    </tr>\n",
       "    <tr>\n",
       "      <th>(20, 30]</th>\n",
       "      <td>248</td>\n",
       "      <td>120</td>\n",
       "      <td>0.326</td>\n",
       "    </tr>\n",
       "    <tr>\n",
       "      <th>(30, 40]</th>\n",
       "      <td>93</td>\n",
       "      <td>80</td>\n",
       "      <td>0.462</td>\n",
       "    </tr>\n",
       "    <tr>\n",
       "      <th>(40, 50]</th>\n",
       "      <td>69</td>\n",
       "      <td>38</td>\n",
       "      <td>0.355</td>\n",
       "    </tr>\n",
       "    <tr>\n",
       "      <th>(50, 60]</th>\n",
       "      <td>25</td>\n",
       "      <td>17</td>\n",
       "      <td>0.405</td>\n",
       "    </tr>\n",
       "    <tr>\n",
       "      <th>(60, 70]</th>\n",
       "      <td>13</td>\n",
       "      <td>4</td>\n",
       "      <td>0.235</td>\n",
       "    </tr>\n",
       "    <tr>\n",
       "      <th>(70, 80]</th>\n",
       "      <td>4</td>\n",
       "      <td>1</td>\n",
       "      <td>0.200</td>\n",
       "    </tr>\n",
       "  </tbody>\n",
       "</table>\n",
       "</div>"
      ],
      "text/plain": [
       "Survived     0    1  ratio_survived\n",
       "ageBinned                          \n",
       "(0, 10]     26   38           0.594\n",
       "(10, 20]    71   44           0.383\n",
       "(20, 30]   248  120           0.326\n",
       "(30, 40]    93   80           0.462\n",
       "(40, 50]    69   38           0.355\n",
       "(50, 60]    25   17           0.405\n",
       "(60, 70]    13    4           0.235\n",
       "(70, 80]     4    1           0.200"
      ]
     },
     "execution_count": 116,
     "metadata": {},
     "output_type": "execute_result"
    }
   ],
   "source": [
    "# Cut the age by the given bins and add ageBinned column\n",
    "data['ageBinned'] = pd.cut(data['Age'], bins=bin_values)\n",
    "\n",
    "# Apply the survival distribution function for ageBinned\n",
    "survivalRate_by_ageBinned = group_survivalDistr(data, 'ageBinned')\n",
    "survivalRate_by_ageBinned"
   ]
  },
  {
   "cell_type": "code",
   "execution_count": 355,
   "metadata": {
    "scrolled": true
   },
   "outputs": [
    {
     "data": {
      "image/png": "[encoded data removed]",
      "text/plain": [
       "<matplotlib.figure.Figure at 0xd774908>"
      ]
     },
     "metadata": {},
     "output_type": "display_data"
    }
   ],
   "source": [
    "# Plot the survival rate of each group\n",
    "survivalRate_by_ageBinned['ratio_survived'].plot.bar(color='darkgreen', rot=45, alpha=0.5, width=0.7)\n",
    "plt.title('The survival rates of different age bracket')\n",
    "plt.show()"
   ]
  },
  {
   "cell_type": "markdown",
   "metadata": {},
   "source": [
    "The first bar of the two charts above shows the suvival rate of **infant children** is nearly 0.6, higher than other groups and the overall survival rate(0.384).\n",
    "\n",
    "I also want to konw what **gender** has a better survival rate. Does the conclusion apply equally to the children?"
   ]
  },
  {
   "cell_type": "code",
   "execution_count": 118,
   "metadata": {
    "collapsed": true,
    "scrolled": true
   },
   "outputs": [],
   "source": [
    "# Get the survival distributions of differrent genders and specify the dataset name\n",
    "overall_sex_survivalDistr = group_survivalDistr(data, 'Sex')\n",
    "overall_sex_survivalDistr.name = 'overall_sex_survivalDistr'\n",
    "\n",
    "# Select the sub-dataset of the children with the highest survival rate\n",
    "children = data[data['Age'] <= 10]\n",
    "\n",
    "# Get the survival distributions of boys and girls and specify the dataset name\n",
    "children_sex_survivalDistr = group_survivalDistr(children, 'Sex')\n",
    "children_sex_survivalDistr.name = 'children_sex_survivalDistr'"
   ]
  },
  {
   "cell_type": "code",
   "execution_count": 119,
   "metadata": {
    "collapsed": true
   },
   "outputs": [],
   "source": [
    "# Create a function to compare the survival rates of two datasets \n",
    "# grouped by the same two fileds, such as sex and survival rate\n",
    "# and visualize the result\n",
    "\n",
    "def compare_survivalDistr(dataset1, dataset1_name, dataset2, dataset2_name, title):\n",
    "    N = len(dataset1['ratio_survived'])\n",
    "    ind = np.arange(N)\n",
    "    width = 0.25\n",
    "    graph_width = max(ind) * 3 + 3\n",
    "    \n",
    "    fig, ax = plt.subplots(figsize=[graph_width, 6])\n",
    "    \n",
    "    rects1 = plt.bar(ind, \n",
    "                     dataset1['ratio_survived'], \n",
    "                     width,\n",
    "                     alpha=0.5, \n",
    "                     label=dataset1.index[0])\n",
    "\n",
    "    rects2 = plt.bar([i + width for i in ind], \n",
    "                     dataset2['ratio_survived'], \n",
    "                     width,\n",
    "                     alpha=0.5, \n",
    "                     label=dataset1.index[1])\n",
    "    \n",
    "    ax.set_ylabel('survivalRate')\n",
    "    ax.set_xticks([i + width / 2 for i in ind])\n",
    "    ax.set_xticklabels(dataset1.index)\n",
    "    \n",
    "    def autolabel(rects):\n",
    "        \"\"\"\n",
    "        Create a function to attach a text label above each bar displaying its height\n",
    "        \"\"\"\n",
    "        for rect in rects:\n",
    "            height = rect.get_height()\n",
    "            ax.text(rect.get_x() + rect.get_width()/2., height + 0.01, float(height),\n",
    "                    ha='center', va='bottom')\n",
    "\n",
    "    autolabel(rects1)\n",
    "    autolabel(rects2)\n",
    "    \n",
    "    plt.xlim(-width, max(ind) + width * 2)\n",
    "    plt.ylim(0, 1.1)\n",
    "    plt.title(title, fontsize=12)\n",
    "    plt.legend([dataset1_name, dataset2_name], loc='upper right')\n",
    "            \n",
    "    plt.grid()\n",
    "    plt.show()"
   ]
  },
  {
   "cell_type": "code",
   "execution_count": 120,
   "metadata": {
    "scrolled": false
   },
   "outputs": [
    {
     "data": {
      "image/png": "[encoded data removed]",
      "text/plain": [
       "<matplotlib.figure.Figure at 0xb8155c0>"
      ]
     },
     "metadata": {},
     "output_type": "display_data"
    }
   ],
   "source": [
    "title = 'Survival rates of different genders \\n among the overall and children' # title of plot\n",
    "compare_survivalDistr(overall_sex_survivalDistr, overall_sex_survivalDistr.name,\n",
    "                      children_sex_survivalDistr, children_sex_survivalDistr.name,\n",
    "                      title) # compare the survival rates"
   ]
  },
  {
   "cell_type": "markdown",
   "metadata": {
    "collapsed": true
   },
   "source": [
    "- As shown in the blue bar graphs, the overall survival rate of females (0.742) is more than 4 times that of males(0.189). It seems that **women** have acquired enough care in rescues.\n",
    "\n",
    "- However, the preferential treatment for females doesn't aplly to children, whose data is displayed in yellow. Among the children, the survival rates of boys(0.576) and girls(0.613) are **almost the same**. Interestingly, the girls' survival rate(0.613) is lower than the overall survival rate of females(0.742).\n",
    "\n",
    "Still a small number of women are excluded from the list of survivors. So what is the common characteristic of those **servived women**? Does the characteristic include the **ticket class**, which represents the social-economic status?"
   ]
  },
  {
   "cell_type": "code",
   "execution_count": 121,
   "metadata": {
    "scrolled": false
   },
   "outputs": [
    {
     "data": {
      "image/png": "[encoded data removed]",
      "text/plain": [
       "<matplotlib.figure.Figure at 0xd529278>"
      ]
     },
     "metadata": {},
     "output_type": "display_data"
    }
   ],
   "source": [
    "# Get the survival distributions of differrent social-economic status and specify the dataset name\n",
    "overall_pclass_survivalDistr = group_survivalDistr(data, 'Pclass')\n",
    "overall_pclass_survivalDistr.name = 'overall_pclass_survivalDistr'\n",
    "\n",
    "# Select the sub-dataset of females\n",
    "females = data[data['Sex']=='female']\n",
    "\n",
    "# Get the survival distributions of boys and girls and specify the dataset name\n",
    "female_pclass_survivalDistr = group_survivalDistr(females, 'Pclass')\n",
    "female_pclass_survivalDistr.name = 'female_pclass_survivalDistr'\n",
    "\n",
    "# Set the title of the plot\n",
    "title = 'Survival rates of different social classes \\n among the overall and females'\n",
    "\n",
    "# Compare the survival rates of all passengers and females in each social class\n",
    "compare_survivalDistr(overall_pclass_survivalDistr, overall_pclass_survivalDistr.name,\n",
    "                      female_pclass_survivalDistr, female_pclass_survivalDistr.name,\n",
    "                      title)"
   ]
  },
  {
   "cell_type": "markdown",
   "metadata": {
    "collapsed": true
   },
   "source": [
    "- As shown the blue bar graphs, the survival rate of the passengers with ticket class 2 is almost twice that of those people with ticket class 3. That means **the higher social-economic class a passenger belongs, the more likely it is for he/she to be saved from the disaster**, which we call it **_law of ticket class and survival rate_** for the time being. Next, we'll realize the **universality** of the law. \n",
    "\n",
    "- The orange bar graphs reveal that the survival rate of females is always higher than the overall rate on each social class, which illustrates a situation that **females have received priority** in rescues.\n",
    "\n",
    "- Although females have got proper care in rescues, the degrees of care for **females of different social classes** are not the same. The survival rate of females with first two ticket classes are more than 0.9, while **only half** of females with the lowest ticket class can be rescued, which just coincides with the law above.\n",
    "\n",
    "What about the care for **children with different ticket classes**?"
   ]
  },
  {
   "cell_type": "code",
   "execution_count": 122,
   "metadata": {
    "scrolled": true
   },
   "outputs": [
    {
     "data": {
      "text/html": [
       "<div>\n",
       "<style>\n",
       "    .dataframe thead tr:only-child th {\n",
       "        text-align: right;\n",
       "    }\n",
       "\n",
       "    .dataframe thead th {\n",
       "        text-align: left;\n",
       "    }\n",
       "\n",
       "    .dataframe tbody tr th {\n",
       "        vertical-align: top;\n",
       "    }\n",
       "</style>\n",
       "<table border=\"1\" class=\"dataframe\">\n",
       "  <thead>\n",
       "    <tr style=\"text-align: right;\">\n",
       "      <th>Survived</th>\n",
       "      <th>0</th>\n",
       "      <th>1</th>\n",
       "      <th>ratio_survived</th>\n",
       "    </tr>\n",
       "    <tr>\n",
       "      <th>Pclass</th>\n",
       "      <th></th>\n",
       "      <th></th>\n",
       "      <th></th>\n",
       "    </tr>\n",
       "  </thead>\n",
       "  <tbody>\n",
       "    <tr>\n",
       "      <th>1</th>\n",
       "      <td>1.0</td>\n",
       "      <td>2.0</td>\n",
       "      <td>0.667</td>\n",
       "    </tr>\n",
       "    <tr>\n",
       "      <th>2</th>\n",
       "      <td>0.0</td>\n",
       "      <td>17.0</td>\n",
       "      <td>1.000</td>\n",
       "    </tr>\n",
       "    <tr>\n",
       "      <th>3</th>\n",
       "      <td>25.0</td>\n",
       "      <td>19.0</td>\n",
       "      <td>0.432</td>\n",
       "    </tr>\n",
       "  </tbody>\n",
       "</table>\n",
       "</div>"
      ],
      "text/plain": [
       "Survived     0     1  ratio_survived\n",
       "Pclass                              \n",
       "1          1.0   2.0           0.667\n",
       "2          0.0  17.0           1.000\n",
       "3         25.0  19.0           0.432"
      ]
     },
     "execution_count": 122,
     "metadata": {},
     "output_type": "execute_result"
    }
   ],
   "source": [
    "# Get the survival distributions of children of differrent social classes\n",
    "group_survivalDistr(children, 'Pclass')"
   ]
  },
  {
   "cell_type": "markdown",
   "metadata": {
    "collapsed": true
   },
   "source": [
    "The number of childrewn with ticket class 1 is too small to be considered. All of the children with ticket class 2 are saved, while the survival rate of children with ticket class 3 is only less than half. That is to say, the **_law of ticket class and survival rate_** can apply to women and children."
   ]
  },
  {
   "cell_type": "markdown",
   "metadata": {},
   "source": [
    "<a id=\"Others\"></a>\n",
    "#### 3.2 Other Factors and Survival Rate"
   ]
  },
  {
   "cell_type": "code",
   "execution_count": 123,
   "metadata": {
    "collapsed": true,
    "scrolled": true
   },
   "outputs": [],
   "source": [
    "# Get the survival distributions of differrent # of siblings / spouses\n",
    "SibSp_survivalDistr = group_survivalDistr(data, 'SibSp')\n",
    "SibSp_survivalDistr.name = 'SibSp_survivalDistr'\n",
    "\n",
    "# Get the survival distributions of differrent # of parents / children\n",
    "Parch_survivalDistr = group_survivalDistr(data, 'Parch')\n",
    "Parch_survivalDistr.name = 'Parch_survivalDistr'\n",
    "\n",
    "title = 'Survival rates of passengers with different number \\n of siblings / spouses and parents / children'"
   ]
  },
  {
   "cell_type": "code",
   "execution_count": 124,
   "metadata": {
    "scrolled": false
   },
   "outputs": [
    {
     "data": {
      "image/png": "[encoded data removed]",
      "text/plain": [
       "<matplotlib.figure.Figure at 0xc11ea58>"
      ]
     },
     "metadata": {},
     "output_type": "display_data"
    }
   ],
   "source": [
    "# Compare the survival rates of siblings / spouses and parents / children\n",
    "compare_survivalDistr(SibSp_survivalDistr, SibSp_survivalDistr.name, \n",
    "                      Parch_survivalDistr, Parch_survivalDistr.name,\n",
    "                      title)"
   ]
  },
  {
   "cell_type": "markdown",
   "metadata": {},
   "source": [
    "As shown in the figure, those passengers with **more than 3 family members** have a lower chance of survival, less than the overall survival rate(0.384). I thought people in a big family may support each other better, so what's the reason for the lower survival chance. Is this related to their social classes or genders?"
   ]
  },
  {
   "cell_type": "code",
   "execution_count": 192,
   "metadata": {},
   "outputs": [
    {
     "data": {
      "text/html": [
       "<div>\n",
       "<style>\n",
       "    .dataframe thead tr:only-child th {\n",
       "        text-align: right;\n",
       "    }\n",
       "\n",
       "    .dataframe thead th {\n",
       "        text-align: left;\n",
       "    }\n",
       "\n",
       "    .dataframe tbody tr th {\n",
       "        vertical-align: top;\n",
       "    }\n",
       "</style>\n",
       "<table border=\"1\" class=\"dataframe\">\n",
       "  <thead>\n",
       "    <tr style=\"text-align: right;\">\n",
       "      <th>Pclass</th>\n",
       "      <th>1</th>\n",
       "      <th>3</th>\n",
       "    </tr>\n",
       "    <tr>\n",
       "      <th>Sex</th>\n",
       "      <th></th>\n",
       "      <th></th>\n",
       "    </tr>\n",
       "  </thead>\n",
       "  <tbody>\n",
       "    <tr>\n",
       "      <th>female</th>\n",
       "      <td>NaN</td>\n",
       "      <td>17.0</td>\n",
       "    </tr>\n",
       "    <tr>\n",
       "      <th>male</th>\n",
       "      <td>1.0</td>\n",
       "      <td>22.0</td>\n",
       "    </tr>\n",
       "  </tbody>\n",
       "</table>\n",
       "</div>"
      ],
      "text/plain": [
       "Pclass    1     3\n",
       "Sex              \n",
       "female  NaN  17.0\n",
       "male    1.0  22.0"
      ]
     },
     "execution_count": 192,
     "metadata": {},
     "output_type": "execute_result"
    }
   ],
   "source": [
    "# Select the sub-dataset of passengers with more than 3 family members\n",
    "familyRelat = data[(data['SibSp']>3) | (data['Parch']>3)]\n",
    "\n",
    "grouped_familyRelat = familyRelat.groupby(['Sex', 'Pclass']).size().unstack()\n",
    "grouped_familyRelat"
   ]
  },
  {
   "cell_type": "markdown",
   "metadata": {},
   "source": [
    "We can see almost all the passengers with more than 3 family members are **at the bottom of the socity**. That may be the reason for low survival chance."
   ]
  },
  {
   "cell_type": "code",
   "execution_count": 130,
   "metadata": {
    "scrolled": true
   },
   "outputs": [
    {
     "data": {
      "text/html": [
       "<div>\n",
       "<style>\n",
       "    .dataframe thead tr:only-child th {\n",
       "        text-align: right;\n",
       "    }\n",
       "\n",
       "    .dataframe thead th {\n",
       "        text-align: left;\n",
       "    }\n",
       "\n",
       "    .dataframe tbody tr th {\n",
       "        vertical-align: top;\n",
       "    }\n",
       "</style>\n",
       "<table border=\"1\" class=\"dataframe\">\n",
       "  <thead>\n",
       "    <tr style=\"text-align: right;\">\n",
       "      <th>Survived</th>\n",
       "      <th>0</th>\n",
       "      <th>1</th>\n",
       "      <th>ratio_survived</th>\n",
       "    </tr>\n",
       "    <tr>\n",
       "      <th>Pclass</th>\n",
       "      <th></th>\n",
       "      <th></th>\n",
       "      <th></th>\n",
       "    </tr>\n",
       "  </thead>\n",
       "  <tbody>\n",
       "    <tr>\n",
       "      <th>1</th>\n",
       "      <td>1.0</td>\n",
       "      <td>0.0</td>\n",
       "      <td>0.000</td>\n",
       "    </tr>\n",
       "    <tr>\n",
       "      <th>3</th>\n",
       "      <td>35.0</td>\n",
       "      <td>4.0</td>\n",
       "      <td>0.103</td>\n",
       "    </tr>\n",
       "  </tbody>\n",
       "</table>\n",
       "</div>"
      ],
      "text/plain": [
       "Survived     0    1  ratio_survived\n",
       "Pclass                             \n",
       "1          1.0  0.0           0.000\n",
       "3         35.0  4.0           0.103"
      ]
     },
     "execution_count": 130,
     "metadata": {},
     "output_type": "execute_result"
    }
   ],
   "source": [
    "# Get the survival distributions of differrent social classes of them\n",
    "group_survivalDistr(familyRelat, 'Pclass')"
   ]
  },
  {
   "cell_type": "markdown",
   "metadata": {},
   "source": [
    "These people with ticket class 3 have a proporlity of 0.103 to survive, obviously less than the overall 0.384."
   ]
  },
  {
   "cell_type": "markdown",
   "metadata": {},
   "source": [
    "<a id=\"Pclass\"></a>\n",
    "#### 3.3 What patterns can I find in the ticket class? "
   ]
  },
  {
   "cell_type": "code",
   "execution_count": 326,
   "metadata": {
    "scrolled": true
   },
   "outputs": [
    {
     "data": {
      "text/html": [
       "<div>\n",
       "<style>\n",
       "    .dataframe thead tr:only-child th {\n",
       "        text-align: right;\n",
       "    }\n",
       "\n",
       "    .dataframe thead th {\n",
       "        text-align: left;\n",
       "    }\n",
       "\n",
       "    .dataframe tbody tr th {\n",
       "        vertical-align: top;\n",
       "    }\n",
       "</style>\n",
       "<table border=\"1\" class=\"dataframe\">\n",
       "  <thead>\n",
       "    <tr style=\"text-align: right;\">\n",
       "      <th></th>\n",
       "      <th>count</th>\n",
       "      <th>mean</th>\n",
       "      <th>std</th>\n",
       "      <th>min</th>\n",
       "      <th>25%</th>\n",
       "      <th>50%</th>\n",
       "      <th>75%</th>\n",
       "      <th>max</th>\n",
       "    </tr>\n",
       "    <tr>\n",
       "      <th>Pclass</th>\n",
       "      <th></th>\n",
       "      <th></th>\n",
       "      <th></th>\n",
       "      <th></th>\n",
       "      <th></th>\n",
       "      <th></th>\n",
       "      <th></th>\n",
       "      <th></th>\n",
       "    </tr>\n",
       "  </thead>\n",
       "  <tbody>\n",
       "    <tr>\n",
       "      <th>1</th>\n",
       "      <td>216.0</td>\n",
       "      <td>38.378866</td>\n",
       "      <td>13.783477</td>\n",
       "      <td>0.92</td>\n",
       "      <td>29.00</td>\n",
       "      <td>38.0</td>\n",
       "      <td>47.25</td>\n",
       "      <td>80.0</td>\n",
       "    </tr>\n",
       "    <tr>\n",
       "      <th>2</th>\n",
       "      <td>184.0</td>\n",
       "      <td>29.907295</td>\n",
       "      <td>13.575612</td>\n",
       "      <td>0.67</td>\n",
       "      <td>23.00</td>\n",
       "      <td>30.0</td>\n",
       "      <td>36.00</td>\n",
       "      <td>70.0</td>\n",
       "    </tr>\n",
       "    <tr>\n",
       "      <th>3</th>\n",
       "      <td>491.0</td>\n",
       "      <td>25.112288</td>\n",
       "      <td>10.683755</td>\n",
       "      <td>0.42</td>\n",
       "      <td>20.25</td>\n",
       "      <td>26.0</td>\n",
       "      <td>29.00</td>\n",
       "      <td>74.0</td>\n",
       "    </tr>\n",
       "  </tbody>\n",
       "</table>\n",
       "</div>"
      ],
      "text/plain": [
       "        count       mean        std   min    25%   50%    75%   max\n",
       "Pclass                                                             \n",
       "1       216.0  38.378866  13.783477  0.92  29.00  38.0  47.25  80.0\n",
       "2       184.0  29.907295  13.575612  0.67  23.00  30.0  36.00  70.0\n",
       "3       491.0  25.112288  10.683755  0.42  20.25  26.0  29.00  74.0"
      ]
     },
     "execution_count": 326,
     "metadata": {},
     "output_type": "execute_result"
    }
   ],
   "source": [
    "# Compute the descriptive statistics of age on each social class\n",
    "age_statistics = data.groupby(['Pclass'])['Age'].describe()\n",
    "age_statistics"
   ]
  },
  {
   "cell_type": "code",
   "execution_count": 327,
   "metadata": {},
   "outputs": [
    {
     "data": {
      "image/png": "[encoded data removed]",
      "text/plain": [
       "<matplotlib.figure.Figure at 0xdc13630>"
      ]
     },
     "metadata": {},
     "output_type": "display_data"
    }
   ],
   "source": [
    "# Leave out the count column and do the transposition\n",
    "age_statistics = age_statistics.drop('count', axis=1).T\n",
    "\n",
    "# Visualize the statistics by creating boxplots\n",
    "color = dict(boxes='SteelBlue', whiskers='SteelBlue',\n",
    "             medians='DarkOrange', caps='Gray')\n",
    "age_statistics.plot.box(figsize=[8, 6], color=color, sym='r+')\n",
    "plt.title('The descriptive statistics of age on each social class')\n",
    "plt.show()"
   ]
  },
  {
   "cell_type": "markdown",
   "metadata": {},
   "source": [
    "- **The higher the social class, the greater the average age**. The averege age of passengers with lowest social class is 25.1 years old, wihle that of passengers with highest social class is 38.4.\n",
    "- **The higher the social class, the larger dispersion of age the class has**. The highest class has the maximum standard deviation of age."
   ]
  },
  {
   "cell_type": "code",
   "execution_count": 333,
   "metadata": {
    "scrolled": true
   },
   "outputs": [],
   "source": [
    "# Get the composition of each social class by creating a function\n",
    "def get_composition(field_name, fig_titile):\n",
    "    count_grouped = data.groupby(['Pclass', field_name]).size().unstack()\n",
    "\n",
    "    count_grouped = count_grouped.apply(lambda x: x/x.sum(), axis=1)\n",
    "    count_grouped = count_grouped.add_prefix('ratio_')\n",
    "\n",
    "    count_grouped.plot.bar(stacked=True, alpha=0.5, rot=0)\n",
    "\n",
    "    plt.title(fig_titile)\n",
    "    plt.ylim(0, 1)\n",
    "\n",
    "    plt.show()"
   ]
  },
  {
   "cell_type": "code",
   "execution_count": 340,
   "metadata": {},
   "outputs": [
    {
     "data": {
      "image/png": "[encoded data removed]",
      "text/plain": [
       "<matplotlib.figure.Figure at 0xe46c5f8>"
      ]
     },
     "metadata": {},
     "output_type": "display_data"
    }
   ],
   "source": [
    "title = 'The percentage of different genders \\n on each social class'\n",
    "get_composition('Sex', title)"
   ]
  },
  {
   "cell_type": "markdown",
   "metadata": {},
   "source": [
    "Althought the three groups of passengers are mainly male, the third class account for the highest proportion of male."
   ]
  },
  {
   "cell_type": "code",
   "execution_count": 343,
   "metadata": {
    "scrolled": true
   },
   "outputs": [
    {
     "data": {
      "image/png": "[encoded data removed]",
      "text/plain": [
       "<matplotlib.figure.Figure at 0xdffe978>"
      ]
     },
     "metadata": {},
     "output_type": "display_data"
    }
   ],
   "source": [
    "title = 'The percentage of different embarkation ports \\n on each social class'\n",
    "get_composition('Embarked', title)"
   ]
  },
  {
   "cell_type": "markdown",
   "metadata": {},
   "source": [
    "Despite of the majority of passengers on each class embarking from Southampton(S) port, most people with ticket class 1 come from Cherbourg(C), and people with ticket class 3 are mainly from Queenstown(S) port. That reprents there are more rich in Cherbourg than in Queenstown."
   ]
  },
  {
   "cell_type": "markdown",
   "metadata": {},
   "source": [
    "<a id=\"Conclutions\"></a>\n",
    "## 4. Drawing Conclusions"
   ]
  },
  {
   "cell_type": "code",
   "execution_count": null,
   "metadata": {
    "collapsed": true
   },
   "outputs": [],
   "source": []
  }
 ],
 "metadata": {
  "kernelspec": {
   "display_name": "Python [conda env:DAND]",
   "language": "python",
   "name": "conda-env-DAND-py"
  },
  "language_info": {
   "codemirror_mode": {
    "name": "ipython",
    "version": 2
   },
   "file_extension": ".py",
   "mimetype": "text/x-python",
   "name": "python",
   "nbconvert_exporter": "python",
   "pygments_lexer": "ipython2",
   "version": "2.7.13"
  }
 },
 "nbformat": 4,
 "nbformat_minor": 2
}
